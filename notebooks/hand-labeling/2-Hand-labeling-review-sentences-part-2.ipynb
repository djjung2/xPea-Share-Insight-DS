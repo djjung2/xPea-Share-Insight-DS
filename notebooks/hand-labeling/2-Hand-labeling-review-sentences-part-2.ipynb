{
 "cells": [
  {
   "cell_type": "markdown",
   "metadata": {},
   "source": [
    "# Hand labeling review sentences- Part 2\n",
    "\n",
    "In this notebook, we will label one thousand more sentences from CONs. This will be the last sentences we will hand label.\n",
    "\n",
    "Once again, I have to be careful to not actually show the content of the reviews."
   ]
  },
  {
   "cell_type": "code",
   "execution_count": 1,
   "metadata": {},
   "outputs": [
    {
     "name": "stderr",
     "output_type": "stream",
     "text": [
      "Using TensorFlow backend.\n",
      "/Users/derekjung/anaconda/lib/python3.6/importlib/_bootstrap.py:219: RuntimeWarning: compiletime version 3.5 of module 'tensorflow.python.framework.fast_tensor_util' does not match runtime version 3.6\n",
      "  return f(*args, **kwds)\n"
     ]
    }
   ],
   "source": [
    "import pandas as pd\n",
    "pd.set_option('display.max_columns', 100)\n",
    "\n",
    "%matplotlib inline \n",
    "import matplotlib as mpl\n",
    "import matplotlib.pyplot as plt\n",
    "\n",
    "import numpy as np\n",
    "import time\n",
    "\n",
    "import re\n",
    "\n",
    "import nltk\n",
    "import nltk.data\n",
    "from nltk.tokenize import sent_tokenize\n",
    "from nltk.corpus import stopwords\n"
   ]
  },
  {
   "cell_type": "code",
   "execution_count": 2,
   "metadata": {},
   "outputs": [
    {
     "name": "stderr",
     "output_type": "stream",
     "text": [
      "/Users/derekjung/anaconda/lib/python3.6/site-packages/IPython/core/interactiveshell.py:2717: DtypeWarning: Columns (19) have mixed types. Specify dtype option on import or set low_memory=False.\n",
      "  interactivity=interactivity, compiler=compiler, result=result)\n"
     ]
    },
    {
     "name": "stdout",
     "output_type": "stream",
     "text": [
      "Took 73.07739281654358 seconds.\n"
     ]
    }
   ],
   "source": [
    "start_time = time.time()\n",
    "\n",
    "reviews = pd.read_csv('glassdoor_reviews_2.csv')\n",
    "\n",
    "print('Took ' + str(time.time()-start_time) + ' seconds.')"
   ]
  },
  {
   "cell_type": "code",
   "execution_count": 3,
   "metadata": {},
   "outputs": [],
   "source": [
    "#save original version of reviews\n",
    "reviews_original = reviews.copy()"
   ]
  },
  {
   "cell_type": "code",
   "execution_count": 4,
   "metadata": {},
   "outputs": [
    {
     "name": "stdout",
     "output_type": "stream",
     "text": [
      "Took 56.39093804359436 seconds.\n"
     ]
    }
   ],
   "source": [
    "start_time = time.time()\n",
    "\n",
    "reviews = reviews_original.copy()\n",
    "\n",
    "#each review's \"Author Title\" should be of format \"Employee Status - Job Title\"\n",
    "# for example, \"Current Employee - Senior Engineer\"\n",
    "\n",
    "#determine how many parts each review's \"Author Title\" has (should be 2)\n",
    "reviews.loc[:,'title_length'] = reviews.loc[:,'Author Title'].apply(lambda x: len(x.split(' - ')))\n",
    "\n",
    "#only consider reviews of proper format \"Employee Status - Author Title\"\n",
    "reviews = reviews[reviews['title_length'] == 2]\n",
    "#could be omitting some job titles with 'dash' in name,\n",
    "#but decreasing number of reviews from 2631927 to 2615691 (<1% change, so don't care)\n",
    "\n",
    "#'Author Title' of all reviews now 2\n",
    "reviews = reviews.drop('title_length', axis=1)\n",
    "\n",
    "#break up \"Author Title\" into two columns: \"Employee Status\" and \"Job Title\"\n",
    "reviews.loc[:,'Employee Status'] = reviews.loc[:,'Author Title'].apply(lambda x: x.split(' - ')[0])\n",
    "reviews.loc[:,'Job Title'] = reviews.loc[:,'Author Title'].apply(lambda x: x.split(' - ')[1])\n",
    "\n",
    "#remove 10 reviews have incorrect \"Employee Status\" \n",
    "#(\"Employee Status\" not like \"Current Employee\", \"Former Intern\", etc.)\n",
    "reviews = reviews[reviews['Employee Status'] != 'module.emp-review.current-'] #remove 4 reviews\n",
    "reviews = reviews[reviews['Employee Status'] != 'module.emp-review.former-'] #remove 6 reviews\n",
    "\n",
    "#add extra columns that states if employee is current or former employee\n",
    "reviews.loc[:,'current_or_former'] = reviews.loc[:,'Employee Status'].apply(lambda x: x.split(' ')[0])\n",
    "\n",
    "print('Took ' + str(time.time()-start_time) + ' seconds.')"
   ]
  },
  {
   "cell_type": "code",
   "execution_count": 5,
   "metadata": {},
   "outputs": [],
   "source": [
    "#companies and number of reviews of company\n",
    "companies = pd.read_csv('reviewed_companies.csv')"
   ]
  },
  {
   "cell_type": "code",
   "execution_count": 6,
   "metadata": {},
   "outputs": [],
   "source": [
    "#only consider companies with at least 100 reviews\n",
    "#    about 25% of companies have at least 100 reviews\n",
    "\n",
    "minimum_reviews_to_consider = 100\n",
    "\n",
    "#companies with at least 100 reviews\n",
    "companies_at_least_min_reviews = companies[companies['count'] >= minimum_reviews_to_consider]"
   ]
  },
  {
   "cell_type": "code",
   "execution_count": 7,
   "metadata": {},
   "outputs": [],
   "source": [
    "#reviews from companies with at least 100 reviews\n",
    "reviews_at_least_min_reviews = reviews[reviews['Company Id'].isin(companies_at_least_min_reviews.loc[:,'Company Id'])]"
   ]
  },
  {
   "cell_type": "code",
   "execution_count": 8,
   "metadata": {},
   "outputs": [],
   "source": [
    "#filter to jobs in USA\n",
    "reviews_at_least_min_reviews_usa = \\\n",
    "    reviews_at_least_min_reviews[reviews_at_least_min_reviews['Author Country']=='USA']"
   ]
  },
  {
   "cell_type": "code",
   "execution_count": 9,
   "metadata": {},
   "outputs": [],
   "source": [
    "#number of reviews to extract from reviews\n",
    "size_of_sample = 500000\n",
    "\n",
    "#extract size_of_sample reviews from reviews \n",
    "#(with at least 100 reviews)\n",
    "#set random state for reproducibility\n",
    "reviews_sample = reviews_at_least_min_reviews_usa.sample(n=size_of_sample, \n",
    "                                                     random_state=21).reset_index()"
   ]
  },
  {
   "cell_type": "code",
   "execution_count": null,
   "metadata": {},
   "outputs": [],
   "source": [
    "size_of_pros_sample = 1000\n",
    "\n",
    "#PROs and CONs for 1000 reviews\n",
    "reviews_small_sample = reviews_sample.loc[:size_of_pros_sample-1,['index','PROs','CONs']].\\\n",
    "    copy().reset_index(drop=True)"
   ]
  },
  {
   "cell_type": "code",
   "execution_count": 12,
   "metadata": {},
   "outputs": [],
   "source": [
    "reviews_small_sample_cons = reviews_sample.loc[:size_of_pros_sample-1,['index','CONs']]"
   ]
  },
  {
   "cell_type": "code",
   "execution_count": 13,
   "metadata": {},
   "outputs": [],
   "source": [
    "#make sure CONs are type string\n",
    "reviews_small_sample_cons.loc[:,'CONs'] = reviews_small_sample_cons.loc[:,'CONs'].apply(lambda pros: str(pros))\n",
    "\n",
    "def replace_period(a_string):\n",
    "    '''\n",
    "    Turns '.' and '+' into '. ' in sentences to help sentence tokenizer work right.\n",
    "    '''\n",
    "    a_string = a_string.replace('.', '. ')\n",
    "    a_string = a_string.replace('+', '. ')\n",
    "    \n",
    "    return a_string\n",
    "\n",
    "#fix TEXT1.TEXT2 by adding space after periods\n",
    "reviews_small_sample_cons.loc[:,'CONs'] = reviews_small_sample_cons.loc[:,'CONs'].apply(lambda cons: replace_period(cons))\n",
    "\n",
    "#tokenize sentences\n",
    "reviews_small_sample_cons.loc[:,'CONs_sentences'] = reviews_small_sample_cons.loc[:,'CONs'].apply(lambda cons: sent_tokenize(cons))"
   ]
  },
  {
   "cell_type": "code",
   "execution_count": 14,
   "metadata": {},
   "outputs": [],
   "source": [
    "def cons_to_df(series):\n",
    "    '''\n",
    "    Breaks up a review series into a DataFrame, with a row for every sentence in CONs.\n",
    "    \n",
    "    Args:\n",
    "    Series (index of review, CONs)\n",
    "    \n",
    "    Returns:\n",
    "    DataFrame ((number of sentences in CONs) x 4)\n",
    "    \n",
    "        Example return:\n",
    "        index     PROs                       sent_number   PROs_sentence           categories\n",
    "        525143    Bad pay! I hated the managers.    0      Bad Pay!                CB\n",
    "        525143    Bad pay! I hated the managers.    1      I liked the managers.   SM\n",
    "    '''\n",
    "    \n",
    "    cons_df = pd.DataFrame.from_dict({'index':series['index'],\n",
    "                                      'CONs':series['CONs'],\n",
    "                                      'CONs_sentence':series['CONs_sentences'],\n",
    "                                      'sent_number':range(len(series['CONs_sentences']))})\n",
    "    \n",
    "    return cons_df.loc[:,['index','CONs','sent_number','CONs_sentence']]"
   ]
  },
  {
   "cell_type": "code",
   "execution_count": 15,
   "metadata": {},
   "outputs": [],
   "source": [
    "cons_sentences_df = pd.concat([cons_to_df(reviews_small_sample_cons.loc[idx,:])\n",
    "                              for idx in range(reviews_small_sample_cons.shape[0])],\n",
    "                             ignore_index=True)"
   ]
  },
  {
   "cell_type": "code",
   "execution_count": 17,
   "metadata": {},
   "outputs": [],
   "source": [
    "def input_cons_categories(df):\n",
    "    '''\n",
    "    Enables user to classify cons as belonging into different categories.\n",
    "    \n",
    "    Args:\n",
    "        DataFrame with sentences from reviews.\n",
    "    '''\n",
    "    \n",
    "    for idx in df.index:\n",
    "        print('\\n')\n",
    "        print(idx)\n",
    "        category = input('\\n' + df.loc[idx,'CONs_sentence'] + '\\n\\n Category CV, WLB, SM, CB, CO, or O (or \"break\"): ')\n",
    "        if category == 'break':\n",
    "            print('Last index checked: {}'.format(idx-1))\n",
    "            break\n",
    "        else:\n",
    "            df.loc[idx,'categories'] = category\n",
    "            \n",
    "    return df"
   ]
  },
  {
   "cell_type": "code",
   "execution_count": 18,
   "metadata": {},
   "outputs": [],
   "source": [
    "cons_sentences_df_1000_1099 = cons_sentences_df.loc[1000:1099,:].copy()\n",
    "\n",
    "cons_sentences_df_1000_1099.loc[:,'categories'] = cons_sentences_df_1000_1099.apply(lambda x: 'ToBeFilledIn', axis=1)"
   ]
  },
  {
   "cell_type": "code",
   "execution_count": 20,
   "metadata": {},
   "outputs": [],
   "source": [
    "#hand label CONs sentences 1000-1099\n",
    "cons_sentences_df_1000_1099 = input_cons_categories(cons_sentences_df_1000_1099)"
   ]
  },
  {
   "cell_type": "code",
   "execution_count": 21,
   "metadata": {},
   "outputs": [],
   "source": [
    "cons_sentences_df_1000_1099.to_csv('cons_sentences_df_1000_1099.csv')"
   ]
  },
  {
   "cell_type": "code",
   "execution_count": 22,
   "metadata": {},
   "outputs": [],
   "source": [
    "cons_sentences_df_1100_1999 = cons_sentences_df.loc[1100:1999,:].copy()\n",
    "\n",
    "cons_sentences_df_1100_1999.loc[:,'categories'] = cons_sentences_df_1100_1999.apply(lambda x: 'ToBeFilledIn', axis=1)"
   ]
  },
  {
   "cell_type": "code",
   "execution_count": 24,
   "metadata": {},
   "outputs": [],
   "source": [
    "#hand label CONs sentences 1100-1999\n",
    "#    error when inputting and I was only able to hand label sentences 1100-1584\n",
    "cons_sentences_df_1100_1999 = input_cons_categories(cons_sentences_df_1100_1999)"
   ]
  },
  {
   "cell_type": "code",
   "execution_count": 26,
   "metadata": {},
   "outputs": [],
   "source": [
    "#results of labeling 1100-1584\n",
    "cons_sentences_df_1100_1584 = pd.read_csv('index_categories_1100_1584.csv', \n",
    "                                            index_col='Unnamed: 0')\n"
   ]
  },
  {
   "cell_type": "code",
   "execution_count": 30,
   "metadata": {},
   "outputs": [],
   "source": [
    "cons_sentences_df_1100_1584.to_csv('cons_sentences_df_1100_1584.csv')"
   ]
  },
  {
   "cell_type": "code",
   "execution_count": 31,
   "metadata": {},
   "outputs": [],
   "source": [
    "cons_sentences_df_1585_1999 = cons_sentences_df_1100_1999.loc[1585:1999,:].copy()\n"
   ]
  },
  {
   "cell_type": "code",
   "execution_count": null,
   "metadata": {},
   "outputs": [],
   "source": [
    "#label CONs sentences 1585-1999\n",
    "cons_sentences_df_1585_1999 = input_cons_categories(cons_sentences_df_1585_1999)"
   ]
  },
  {
   "cell_type": "code",
   "execution_count": 35,
   "metadata": {},
   "outputs": [],
   "source": [
    "cons_sentences_df_1585_1999.to_csv('cons_sentences_df_1585_1999.csv')"
   ]
  }
 ],
 "metadata": {
  "kernelspec": {
   "display_name": "Python 3",
   "language": "python",
   "name": "python3"
  },
  "language_info": {
   "codemirror_mode": {
    "name": "ipython",
    "version": 3
   },
   "file_extension": ".py",
   "mimetype": "text/x-python",
   "name": "python",
   "nbconvert_exporter": "python",
   "pygments_lexer": "ipython3",
   "version": "3.6.5"
  }
 },
 "nbformat": 4,
 "nbformat_minor": 2
}
