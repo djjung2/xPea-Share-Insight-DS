{
 "cells": [
  {
   "cell_type": "markdown",
   "metadata": {},
   "source": [
    "# Hand labeling review sentences- Part 1\n",
    "\n",
    "The overarching goal is to determine how each company's employees feel in the 5 Glassdoor categories (Culture & Values, Work/Life Balance, Senior Management, Comp & Benefits, and Career Opportunities). This is difficult because the PROs and CONs review are written in free-form format, which makes it difficult decipher a priori to discern how an employee feels in the different categories.\n",
    "\n",
    "My strategy is to tokenize the text of each review into sentences and study each sentence separately. I will then figure out which categories each sentence speaks to. My thinking is that most sentences speak to just one category, or at the very least, have a similar sentiment about the categories described by it.\n",
    "\n",
    "The hard part of this strategy is predicting which categories concerns. There are 5 million sentences in the Glassdoor reviews dataset. It would be impossible for me to hand-label all 5 million sentences (at least take about 10,000 hours=5 years of work weeks). Rather, I'll hand-label a subset of the sentences and then later use machine learning to predict the categories of the remaining sentences.\n",
    "\n",
    "I chose to label 1000 reviews. Being able to label about 400-600 sentences per hour along with the fact that these reviews contained about 4000 sentences total, this was all I could hope to label and still do the rest of my project.\n",
    "\n",
    "In this notebook, I will start by labeling the sentences from 1000 PROs reviews. I will also label 1000 sentences from CONs reviews. It should be noted that each PRO and CON review is about 2 sentences on average."
   ]
  },
  {
   "cell_type": "code",
   "execution_count": 1,
   "metadata": {},
   "outputs": [
    {
     "name": "stderr",
     "output_type": "stream",
     "text": [
      "Using TensorFlow backend.\n",
      "/Users/derekjung/anaconda/lib/python3.6/importlib/_bootstrap.py:219: RuntimeWarning: compiletime version 3.5 of module 'tensorflow.python.framework.fast_tensor_util' does not match runtime version 3.6\n",
      "  return f(*args, **kwds)\n"
     ]
    }
   ],
   "source": [
    "import pandas as pd\n",
    "pd.set_option('display.max_columns', 100)\n",
    "\n",
    "import numpy as np\n",
    "import time\n",
    "\n",
    "%matplotlib inline \n",
    "import matplotlib as mpl\n",
    "import matplotlib.pyplot as plt\n",
    "\n",
    "import nltk\n",
    "import nltk.data\n",
    "from nltk.tokenize import sent_tokenize\n",
    "from nltk.corpus import stopwords\n",
    "\n",
    "import re"
   ]
  },
  {
   "cell_type": "markdown",
   "metadata": {},
   "source": [
    "## Import and clean reviews and companies data"
   ]
  },
  {
   "cell_type": "code",
   "execution_count": 2,
   "metadata": {},
   "outputs": [
    {
     "name": "stderr",
     "output_type": "stream",
     "text": [
      "/Users/derekjung/anaconda/lib/python3.6/site-packages/IPython/core/interactiveshell.py:2717: DtypeWarning: Columns (19) have mixed types. Specify dtype option on import or set low_memory=False.\n",
      "  interactivity=interactivity, compiler=compiler, result=result)\n"
     ]
    },
    {
     "name": "stdout",
     "output_type": "stream",
     "text": [
      "Took 83.8594799041748 seconds.\n"
     ]
    }
   ],
   "source": [
    "start_time = time.time()\n",
    "\n",
    "reviews = pd.read_csv('glassdoor_reviews_2.csv')\n",
    "\n",
    "print('Took ' + str(time.time()-start_time) + ' seconds.')"
   ]
  },
  {
   "cell_type": "code",
   "execution_count": 5,
   "metadata": {},
   "outputs": [],
   "source": [
    "#save initial version of reviews\n",
    "reviews_original = reviews.copy()"
   ]
  },
  {
   "cell_type": "code",
   "execution_count": 6,
   "metadata": {},
   "outputs": [
    {
     "name": "stdout",
     "output_type": "stream",
     "text": [
      "Took 46.16398096084595 seconds.\n"
     ]
    }
   ],
   "source": [
    "#clean reviews, dropping reviews of different format\n",
    "\n",
    "start_time = time.time()\n",
    "\n",
    "reviews = reviews_original.copy()\n",
    "\n",
    "#each review's \"Author Title\" should be of format \"Employee Status - Job Title\"\n",
    "# for example, \"Current Employee - Senior Engineer\"\n",
    "\n",
    "#determine how many parts each review's \"Author Title\" has (should be 2)\n",
    "reviews.loc[:,'title_length'] = reviews.loc[:,'Author Title'].apply(lambda x: len(x.split(' - ')))\n",
    "\n",
    "#only consider reviews of proper format \"Employee Status - Author Title\"\n",
    "reviews = reviews[reviews['title_length'] == 2]\n",
    "#could be omitting some job titles with 'dash' in name,\n",
    "#but decreasing number of reviews from 2631927 to 2615691 (<1% change, so don't care)\n",
    "\n",
    "#'Author Title' of all reviews now 2\n",
    "reviews = reviews.drop('title_length', axis=1)\n",
    "\n",
    "#break up \"Author Title\" into two columns: \"Employee Status\" and \"Job Title\"\n",
    "reviews.loc[:,'Employee Status'] = reviews.loc[:,'Author Title'].apply(lambda x: x.split(' - ')[0])\n",
    "reviews.loc[:,'Job Title'] = reviews.loc[:,'Author Title'].apply(lambda x: x.split(' - ')[1])\n",
    "\n",
    "#remove 10 reviews have incorrect \"Employee Status\" \n",
    "#(\"Employee Status\" not like \"Current Employee\", \"Former Intern\", etc.)\n",
    "reviews = reviews[reviews['Employee Status'] != 'module.emp-review.current-'] #remove 4 reviews\n",
    "reviews = reviews[reviews['Employee Status'] != 'module.emp-review.former-'] #remove 6 reviews\n",
    "\n",
    "#add extra columns that states if employee is current or former employee\n",
    "reviews.loc[:,'current_or_former'] = reviews.loc[:,'Employee Status'].apply(lambda x: x.split(' ')[0])\n",
    "\n",
    "print('Took ' + str(time.time()-start_time) + ' seconds.')"
   ]
  },
  {
   "cell_type": "code",
   "execution_count": 7,
   "metadata": {},
   "outputs": [
    {
     "data": {
      "text/plain": [
       "(2615681, 38)"
      ]
     },
     "execution_count": 7,
     "metadata": {},
     "output_type": "execute_result"
    }
   ],
   "source": [
    "reviews.shape"
   ]
  },
  {
   "cell_type": "code",
   "execution_count": 8,
   "metadata": {},
   "outputs": [],
   "source": [
    "#companies and number of reviews of company\n",
    "companies = pd.read_csv('reviewed_companies.csv')"
   ]
  },
  {
   "cell_type": "code",
   "execution_count": 9,
   "metadata": {},
   "outputs": [
    {
     "name": "stdout",
     "output_type": "stream",
     "text": [
      "(5832, 8)\n"
     ]
    },
    {
     "data": {
      "text/html": [
       "<div>\n",
       "<table border=\"1\" class=\"dataframe\">\n",
       "  <thead>\n",
       "    <tr style=\"text-align: right;\">\n",
       "      <th></th>\n",
       "      <th>Unnamed: 0</th>\n",
       "      <th>Ticker Symbol</th>\n",
       "      <th>Ticker Sector</th>\n",
       "      <th>Ticker Industry</th>\n",
       "      <th>Company Id</th>\n",
       "      <th>Company URL</th>\n",
       "      <th>company_name</th>\n",
       "      <th>count</th>\n",
       "    </tr>\n",
       "  </thead>\n",
       "  <tbody>\n",
       "    <tr>\n",
       "      <th>0</th>\n",
       "      <td>0</td>\n",
       "      <td>vtx:rog</td>\n",
       "      <td>Health Care</td>\n",
       "      <td>Pharmaceuticals &amp; Biotechnology</td>\n",
       "      <td>274</td>\n",
       "      <td>https://www.glassdoor.com/Overview/Working-at-...</td>\n",
       "      <td>Genentech</td>\n",
       "      <td>609</td>\n",
       "    </tr>\n",
       "    <tr>\n",
       "      <th>1</th>\n",
       "      <td>1</td>\n",
       "      <td>bcs:falabella</td>\n",
       "      <td>NaN</td>\n",
       "      <td>NaN</td>\n",
       "      <td>10976</td>\n",
       "      <td>https://www.glassdoor.com/Overview/Working-at-...</td>\n",
       "      <td>Falabella</td>\n",
       "      <td>9</td>\n",
       "    </tr>\n",
       "    <tr>\n",
       "      <th>2</th>\n",
       "      <td>2</td>\n",
       "      <td>asx:wow</td>\n",
       "      <td>Consumer Services</td>\n",
       "      <td>Food &amp; Drug Retailers</td>\n",
       "      <td>473193</td>\n",
       "      <td>https://www.glassdoor.com/Overview/Working-at-...</td>\n",
       "      <td>Big W</td>\n",
       "      <td>70</td>\n",
       "    </tr>\n",
       "    <tr>\n",
       "      <th>3</th>\n",
       "      <td>3</td>\n",
       "      <td>asx:wor</td>\n",
       "      <td>NaN</td>\n",
       "      <td>NaN</td>\n",
       "      <td>35193</td>\n",
       "      <td>https://www.glassdoor.com/Overview/Working-at-...</td>\n",
       "      <td>WorleyParsons</td>\n",
       "      <td>379</td>\n",
       "    </tr>\n",
       "    <tr>\n",
       "      <th>4</th>\n",
       "      <td>4</td>\n",
       "      <td>nyse:xom</td>\n",
       "      <td>Oil &amp; Gas</td>\n",
       "      <td>Oil &amp; Gas Producers</td>\n",
       "      <td>237</td>\n",
       "      <td>https://www.glassdoor.com/Overview/Working-at-...</td>\n",
       "      <td>ExxonMobil</td>\n",
       "      <td>845</td>\n",
       "    </tr>\n",
       "  </tbody>\n",
       "</table>\n",
       "</div>"
      ],
      "text/plain": [
       "   Unnamed: 0  Ticker Symbol      Ticker Sector  \\\n",
       "0           0        vtx:rog        Health Care   \n",
       "1           1  bcs:falabella                NaN   \n",
       "2           2        asx:wow  Consumer Services   \n",
       "3           3        asx:wor                NaN   \n",
       "4           4       nyse:xom          Oil & Gas   \n",
       "\n",
       "                   Ticker Industry  Company Id  \\\n",
       "0  Pharmaceuticals & Biotechnology         274   \n",
       "1                              NaN       10976   \n",
       "2            Food & Drug Retailers      473193   \n",
       "3                              NaN       35193   \n",
       "4              Oil & Gas Producers         237   \n",
       "\n",
       "                                         Company URL   company_name  count  \n",
       "0  https://www.glassdoor.com/Overview/Working-at-...      Genentech    609  \n",
       "1  https://www.glassdoor.com/Overview/Working-at-...      Falabella      9  \n",
       "2  https://www.glassdoor.com/Overview/Working-at-...          Big W     70  \n",
       "3  https://www.glassdoor.com/Overview/Working-at-...  WorleyParsons    379  \n",
       "4  https://www.glassdoor.com/Overview/Working-at-...     ExxonMobil    845  "
      ]
     },
     "execution_count": 9,
     "metadata": {},
     "output_type": "execute_result"
    }
   ],
   "source": [
    "print(companies.shape)\n",
    "\n",
    "companies.head()"
   ]
  },
  {
   "cell_type": "code",
   "execution_count": 10,
   "metadata": {},
   "outputs": [],
   "source": [
    "#only consider companies with at least 100 reviews\n",
    "#about 25% of companies have at least 100 reviews\n",
    "\n",
    "minimum_reviews_to_consider = 100\n",
    "\n",
    "#companies with at least 100 reviews\n",
    "companies_at_least_min_reviews = companies[companies['count'] >= minimum_reviews_to_consider]"
   ]
  },
  {
   "cell_type": "code",
   "execution_count": 11,
   "metadata": {},
   "outputs": [],
   "source": [
    "#only consider reviews from companies with >= 100 reviews\n",
    "reviews_at_least_min_reviews = reviews[reviews['Company Id'].isin(companies_at_least_min_reviews.loc[:,'Company Id'])]"
   ]
  },
  {
   "cell_type": "code",
   "execution_count": 12,
   "metadata": {},
   "outputs": [
    {
     "data": {
      "text/plain": [
       "(2339087, 38)"
      ]
     },
     "execution_count": 12,
     "metadata": {},
     "output_type": "execute_result"
    }
   ],
   "source": [
    "reviews_at_least_min_reviews.shape"
   ]
  },
  {
   "cell_type": "code",
   "execution_count": 13,
   "metadata": {},
   "outputs": [
    {
     "name": "stdout",
     "output_type": "stream",
     "text": [
      "1007287\n"
     ]
    },
    {
     "data": {
      "text/html": [
       "<div>\n",
       "<table border=\"1\" class=\"dataframe\">\n",
       "  <thead>\n",
       "    <tr style=\"text-align: right;\">\n",
       "      <th></th>\n",
       "      <th>Ticker Symbol</th>\n",
       "      <th>Entity Name</th>\n",
       "      <th>Dataset</th>\n",
       "      <th>CUSIP</th>\n",
       "      <th>ISIN</th>\n",
       "      <th>Unique ID</th>\n",
       "      <th>As Of Date</th>\n",
       "      <th>Review Url</th>\n",
       "      <th>Logo</th>\n",
       "      <th>Author Title</th>\n",
       "      <th>Author Location</th>\n",
       "      <th>Author Country</th>\n",
       "      <th>Summary</th>\n",
       "      <th>Description</th>\n",
       "      <th>PROs</th>\n",
       "      <th>CONs</th>\n",
       "      <th>Recommends Value</th>\n",
       "      <th>Recommends Description</th>\n",
       "      <th>Outlook Value</th>\n",
       "      <th>Outlook Description</th>\n",
       "      <th>CEO Review Value</th>\n",
       "      <th>CEO Review Description</th>\n",
       "      <th>Helpful Count</th>\n",
       "      <th>Rating: Overall</th>\n",
       "      <th>Rating: Work/Life Balance</th>\n",
       "      <th>Rating: Culture &amp; Values</th>\n",
       "      <th>Rating: Career Opportunities</th>\n",
       "      <th>Rating: Comp &amp; Benefits</th>\n",
       "      <th>Rating: Senior Management</th>\n",
       "      <th>Company Id</th>\n",
       "      <th>Company URL</th>\n",
       "      <th>Date Added</th>\n",
       "      <th>Date Updated</th>\n",
       "      <th>Ticker Sector</th>\n",
       "      <th>Ticker Industry</th>\n",
       "      <th>Employee Status</th>\n",
       "      <th>Job Title</th>\n",
       "      <th>current_or_former</th>\n",
       "    </tr>\n",
       "  </thead>\n",
       "  <tbody>\n",
       "    <tr>\n",
       "      <th>4</th>\n",
       "      <td>nyse:xom</td>\n",
       "      <td>https://www.glassdoor.com?employer_id=237</td>\n",
       "      <td>2331755</td>\n",
       "      <td>30231G102</td>\n",
       "      <td>US30231G1022</td>\n",
       "      <td>3065906</td>\n",
       "      <td>2018-09-09 04:00:00+00</td>\n",
       "      <td>https://www.glassdoor.com/Reviews/Employee-Rev...</td>\n",
       "      <td>https://media.glassdoor.com/sqls/237/exxonmobi...</td>\n",
       "      <td>Former Employee - I T Analyst</td>\n",
       "      <td>Houston, TX</td>\n",
       "      <td>USA</td>\n",
       "      <td>\"I.T. Analyst - Global Services Company\"</td>\n",
       "      <td>I worked at ExxonMobil full-time (More than 10...</td>\n",
       "      <td>Great benefits, smart co-workers, state of the...</td>\n",
       "      <td>Forced ranking, slow to adopt new technology, ...</td>\n",
       "      <td>1.0</td>\n",
       "      <td>Recommends</td>\n",
       "      <td>1.0</td>\n",
       "      <td>Positive Outlook</td>\n",
       "      <td>1.0</td>\n",
       "      <td>Approves of CEO</td>\n",
       "      <td>NaN</td>\n",
       "      <td>4</td>\n",
       "      <td>3.0</td>\n",
       "      <td>5.0</td>\n",
       "      <td>3.0</td>\n",
       "      <td>5.0</td>\n",
       "      <td>4.0</td>\n",
       "      <td>237</td>\n",
       "      <td>https://www.glassdoor.com/Overview/Working-at-...</td>\n",
       "      <td>2018-09-10 07:53:45.26833+00</td>\n",
       "      <td>2018-09-10 07:53:45.268361+00</td>\n",
       "      <td>Oil &amp; Gas</td>\n",
       "      <td>Oil &amp; Gas Producers</td>\n",
       "      <td>Former Employee</td>\n",
       "      <td>I T Analyst</td>\n",
       "      <td>Former</td>\n",
       "    </tr>\n",
       "    <tr>\n",
       "      <th>5</th>\n",
       "      <td>nyse:cat</td>\n",
       "      <td>https://www.glassdoor.com?employer_id=137</td>\n",
       "      <td>2330013</td>\n",
       "      <td>149123101</td>\n",
       "      <td>US1491231015</td>\n",
       "      <td>3065701</td>\n",
       "      <td>2018-09-09 04:00:00+00</td>\n",
       "      <td>https://www.glassdoor.com/Reviews/Employee-Rev...</td>\n",
       "      <td>https://media.glassdoor.com/sqls/137/caterpill...</td>\n",
       "      <td>Current Employee - Welder/Fabricator</td>\n",
       "      <td>Aurora, IL</td>\n",
       "      <td>USA</td>\n",
       "      <td>\"Decent job with decent pay.\"</td>\n",
       "      <td>I have been working at Caterpillar full-time (...</td>\n",
       "      <td>Steady 40 hours a week. Union job.</td>\n",
       "      <td>Company is more worried about the all might do...</td>\n",
       "      <td>1.0</td>\n",
       "      <td>Recommends</td>\n",
       "      <td>0.0</td>\n",
       "      <td>Neutral Outlook</td>\n",
       "      <td>-1.0</td>\n",
       "      <td>Disapproves of CEO</td>\n",
       "      <td>NaN</td>\n",
       "      <td>3</td>\n",
       "      <td>4.0</td>\n",
       "      <td>3.0</td>\n",
       "      <td>4.0</td>\n",
       "      <td>3.0</td>\n",
       "      <td>3.0</td>\n",
       "      <td>137</td>\n",
       "      <td>https://www.glassdoor.com/Overview/Working-at-...</td>\n",
       "      <td>2018-09-10 05:22:30.202947+00</td>\n",
       "      <td>2018-09-10 05:22:30.202988+00</td>\n",
       "      <td>Industrials</td>\n",
       "      <td>Industrial Engineering</td>\n",
       "      <td>Current Employee</td>\n",
       "      <td>Welder/Fabricator</td>\n",
       "      <td>Current</td>\n",
       "    </tr>\n",
       "    <tr>\n",
       "      <th>6</th>\n",
       "      <td>nyse:wrk</td>\n",
       "      <td>https://www.glassdoor.com?employer_id=1033056</td>\n",
       "      <td>2341899</td>\n",
       "      <td>96145D105</td>\n",
       "      <td>US96145D1054</td>\n",
       "      <td>3065903</td>\n",
       "      <td>2018-09-09 04:00:00+00</td>\n",
       "      <td>https://www.glassdoor.com/Reviews/Employee-Rev...</td>\n",
       "      <td>https://media.glassdoor.com/sqls/1033056/westr...</td>\n",
       "      <td>Current Employee - Quality</td>\n",
       "      <td>Mebane, NC</td>\n",
       "      <td>USA</td>\n",
       "      <td>\"Quality\"</td>\n",
       "      <td>I have been working at WestRock full-time (Mor...</td>\n",
       "      <td>Excellent health care and stock. 401k needs im...</td>\n",
       "      <td>No raise or pay adjustment in 2 years. Nothing...</td>\n",
       "      <td>-1.0</td>\n",
       "      <td>Doesn't Recommend</td>\n",
       "      <td>-1.0</td>\n",
       "      <td>Negative Outlook</td>\n",
       "      <td>-1.0</td>\n",
       "      <td>Disapproves of CEO</td>\n",
       "      <td>NaN</td>\n",
       "      <td>2</td>\n",
       "      <td>1.0</td>\n",
       "      <td>1.0</td>\n",
       "      <td>1.0</td>\n",
       "      <td>4.0</td>\n",
       "      <td>1.0</td>\n",
       "      <td>1033056</td>\n",
       "      <td>https://www.glassdoor.com/Overview/Working-at-...</td>\n",
       "      <td>2018-09-10 07:52:04.797509+00</td>\n",
       "      <td>2018-09-10 07:52:04.797545+00</td>\n",
       "      <td>Industrials</td>\n",
       "      <td>General Industrials</td>\n",
       "      <td>Current Employee</td>\n",
       "      <td>Quality</td>\n",
       "      <td>Current</td>\n",
       "    </tr>\n",
       "    <tr>\n",
       "      <th>10</th>\n",
       "      <td>sto:secu-b</td>\n",
       "      <td>https://www.glassdoor.com?employer_id=16559</td>\n",
       "      <td>2333979</td>\n",
       "      <td>NaN</td>\n",
       "      <td>NaN</td>\n",
       "      <td>3066089</td>\n",
       "      <td>2018-09-09 04:00:00+00</td>\n",
       "      <td>https://www.glassdoor.com/Reviews/Employee-Rev...</td>\n",
       "      <td>https://media.glassdoor.com/sqls/16559/securit...</td>\n",
       "      <td>Current Employee - Security Officer</td>\n",
       "      <td>Hillsboro, OR</td>\n",
       "      <td>USA</td>\n",
       "      <td>\"I enjoy the people here\"</td>\n",
       "      <td>I have been working at Securitas Security Serv...</td>\n",
       "      <td>It is a very large, stable company that has be...</td>\n",
       "      <td>I've been there a month now and have no cons.</td>\n",
       "      <td>1.0</td>\n",
       "      <td>Recommends</td>\n",
       "      <td>1.0</td>\n",
       "      <td>Positive Outlook</td>\n",
       "      <td>1.0</td>\n",
       "      <td>Approves of CEO</td>\n",
       "      <td>NaN</td>\n",
       "      <td>5</td>\n",
       "      <td>4.0</td>\n",
       "      <td>5.0</td>\n",
       "      <td>5.0</td>\n",
       "      <td>4.0</td>\n",
       "      <td>5.0</td>\n",
       "      <td>16559</td>\n",
       "      <td>https://www.glassdoor.com/Overview/Working-at-...</td>\n",
       "      <td>2018-09-10 11:03:30.511047+00</td>\n",
       "      <td>2018-09-10 11:03:30.511088+00</td>\n",
       "      <td>NaN</td>\n",
       "      <td>NaN</td>\n",
       "      <td>Current Employee</td>\n",
       "      <td>Security Officer</td>\n",
       "      <td>Current</td>\n",
       "    </tr>\n",
       "    <tr>\n",
       "      <th>11</th>\n",
       "      <td>nyse:gs</td>\n",
       "      <td>https://www.glassdoor.com?employer_id=2800</td>\n",
       "      <td>2330564</td>\n",
       "      <td>38141G104</td>\n",
       "      <td>US38141G1040</td>\n",
       "      <td>3065765</td>\n",
       "      <td>2018-09-09 04:00:00+00</td>\n",
       "      <td>https://www.glassdoor.com/Reviews/Employee-Rev...</td>\n",
       "      <td>https://media.glassdoor.com/sqls/2800/goldman-...</td>\n",
       "      <td>Former Employee - Anonymous Employee</td>\n",
       "      <td>New York, NY</td>\n",
       "      <td>USA</td>\n",
       "      <td>\"Great Company to Work for\"</td>\n",
       "      <td>I worked at Goldman Sachs full-time (Less than...</td>\n",
       "      <td>Lots of learningLots of opportunities</td>\n",
       "      <td>Work PressureNeed to handle multiple task at s...</td>\n",
       "      <td>NaN</td>\n",
       "      <td>NaN</td>\n",
       "      <td>NaN</td>\n",
       "      <td>NaN</td>\n",
       "      <td>NaN</td>\n",
       "      <td>NaN</td>\n",
       "      <td>NaN</td>\n",
       "      <td>5</td>\n",
       "      <td>1.0</td>\n",
       "      <td>5.0</td>\n",
       "      <td>5.0</td>\n",
       "      <td>5.0</td>\n",
       "      <td>4.0</td>\n",
       "      <td>2800</td>\n",
       "      <td>https://www.glassdoor.com/Overview/Working-at-...</td>\n",
       "      <td>2018-09-10 06:11:41.41912+00</td>\n",
       "      <td>2018-09-10 06:11:41.419162+00</td>\n",
       "      <td>Financials</td>\n",
       "      <td>Financial Services</td>\n",
       "      <td>Former Employee</td>\n",
       "      <td>Anonymous Employee</td>\n",
       "      <td>Former</td>\n",
       "    </tr>\n",
       "  </tbody>\n",
       "</table>\n",
       "</div>"
      ],
      "text/plain": [
       "   Ticker Symbol                                    Entity Name  Dataset  \\\n",
       "4       nyse:xom      https://www.glassdoor.com?employer_id=237  2331755   \n",
       "5       nyse:cat      https://www.glassdoor.com?employer_id=137  2330013   \n",
       "6       nyse:wrk  https://www.glassdoor.com?employer_id=1033056  2341899   \n",
       "10    sto:secu-b    https://www.glassdoor.com?employer_id=16559  2333979   \n",
       "11       nyse:gs     https://www.glassdoor.com?employer_id=2800  2330564   \n",
       "\n",
       "        CUSIP          ISIN  Unique ID              As Of Date  \\\n",
       "4   30231G102  US30231G1022    3065906  2018-09-09 04:00:00+00   \n",
       "5   149123101  US1491231015    3065701  2018-09-09 04:00:00+00   \n",
       "6   96145D105  US96145D1054    3065903  2018-09-09 04:00:00+00   \n",
       "10        NaN           NaN    3066089  2018-09-09 04:00:00+00   \n",
       "11  38141G104  US38141G1040    3065765  2018-09-09 04:00:00+00   \n",
       "\n",
       "                                           Review Url  \\\n",
       "4   https://www.glassdoor.com/Reviews/Employee-Rev...   \n",
       "5   https://www.glassdoor.com/Reviews/Employee-Rev...   \n",
       "6   https://www.glassdoor.com/Reviews/Employee-Rev...   \n",
       "10  https://www.glassdoor.com/Reviews/Employee-Rev...   \n",
       "11  https://www.glassdoor.com/Reviews/Employee-Rev...   \n",
       "\n",
       "                                                 Logo  \\\n",
       "4   https://media.glassdoor.com/sqls/237/exxonmobi...   \n",
       "5   https://media.glassdoor.com/sqls/137/caterpill...   \n",
       "6   https://media.glassdoor.com/sqls/1033056/westr...   \n",
       "10  https://media.glassdoor.com/sqls/16559/securit...   \n",
       "11  https://media.glassdoor.com/sqls/2800/goldman-...   \n",
       "\n",
       "                            Author Title Author Location Author Country  \\\n",
       "4          Former Employee - I T Analyst     Houston, TX            USA   \n",
       "5   Current Employee - Welder/Fabricator      Aurora, IL            USA   \n",
       "6             Current Employee - Quality      Mebane, NC            USA   \n",
       "10   Current Employee - Security Officer   Hillsboro, OR            USA   \n",
       "11  Former Employee - Anonymous Employee    New York, NY            USA   \n",
       "\n",
       "                                     Summary  \\\n",
       "4   \"I.T. Analyst - Global Services Company\"   \n",
       "5              \"Decent job with decent pay.\"   \n",
       "6                                  \"Quality\"   \n",
       "10                 \"I enjoy the people here\"   \n",
       "11               \"Great Company to Work for\"   \n",
       "\n",
       "                                          Description  \\\n",
       "4   I worked at ExxonMobil full-time (More than 10...   \n",
       "5   I have been working at Caterpillar full-time (...   \n",
       "6   I have been working at WestRock full-time (Mor...   \n",
       "10  I have been working at Securitas Security Serv...   \n",
       "11  I worked at Goldman Sachs full-time (Less than...   \n",
       "\n",
       "                                                 PROs  \\\n",
       "4   Great benefits, smart co-workers, state of the...   \n",
       "5                  Steady 40 hours a week. Union job.   \n",
       "6   Excellent health care and stock. 401k needs im...   \n",
       "10  It is a very large, stable company that has be...   \n",
       "11              Lots of learningLots of opportunities   \n",
       "\n",
       "                                                 CONs  Recommends Value  \\\n",
       "4   Forced ranking, slow to adopt new technology, ...               1.0   \n",
       "5   Company is more worried about the all might do...               1.0   \n",
       "6   No raise or pay adjustment in 2 years. Nothing...              -1.0   \n",
       "10      I've been there a month now and have no cons.               1.0   \n",
       "11  Work PressureNeed to handle multiple task at s...               NaN   \n",
       "\n",
       "   Recommends Description  Outlook Value Outlook Description  \\\n",
       "4              Recommends            1.0    Positive Outlook   \n",
       "5              Recommends            0.0     Neutral Outlook   \n",
       "6       Doesn't Recommend           -1.0    Negative Outlook   \n",
       "10             Recommends            1.0    Positive Outlook   \n",
       "11                    NaN            NaN                 NaN   \n",
       "\n",
       "    CEO Review Value CEO Review Description  Helpful Count  Rating: Overall  \\\n",
       "4                1.0        Approves of CEO            NaN                4   \n",
       "5               -1.0     Disapproves of CEO            NaN                3   \n",
       "6               -1.0     Disapproves of CEO            NaN                2   \n",
       "10               1.0        Approves of CEO            NaN                5   \n",
       "11               NaN                    NaN            NaN                5   \n",
       "\n",
       "    Rating: Work/Life Balance  Rating: Culture & Values  \\\n",
       "4                         3.0                       5.0   \n",
       "5                         4.0                       3.0   \n",
       "6                         1.0                       1.0   \n",
       "10                        4.0                       5.0   \n",
       "11                        1.0                       5.0   \n",
       "\n",
       "    Rating: Career Opportunities  Rating: Comp & Benefits  \\\n",
       "4                            3.0                      5.0   \n",
       "5                            4.0                      3.0   \n",
       "6                            1.0                      4.0   \n",
       "10                           5.0                      4.0   \n",
       "11                           5.0                      5.0   \n",
       "\n",
       "    Rating: Senior Management  Company Id  \\\n",
       "4                         4.0         237   \n",
       "5                         3.0         137   \n",
       "6                         1.0     1033056   \n",
       "10                        5.0       16559   \n",
       "11                        4.0        2800   \n",
       "\n",
       "                                          Company URL  \\\n",
       "4   https://www.glassdoor.com/Overview/Working-at-...   \n",
       "5   https://www.glassdoor.com/Overview/Working-at-...   \n",
       "6   https://www.glassdoor.com/Overview/Working-at-...   \n",
       "10  https://www.glassdoor.com/Overview/Working-at-...   \n",
       "11  https://www.glassdoor.com/Overview/Working-at-...   \n",
       "\n",
       "                       Date Added                   Date Updated  \\\n",
       "4    2018-09-10 07:53:45.26833+00  2018-09-10 07:53:45.268361+00   \n",
       "5   2018-09-10 05:22:30.202947+00  2018-09-10 05:22:30.202988+00   \n",
       "6   2018-09-10 07:52:04.797509+00  2018-09-10 07:52:04.797545+00   \n",
       "10  2018-09-10 11:03:30.511047+00  2018-09-10 11:03:30.511088+00   \n",
       "11   2018-09-10 06:11:41.41912+00  2018-09-10 06:11:41.419162+00   \n",
       "\n",
       "   Ticker Sector         Ticker Industry   Employee Status  \\\n",
       "4      Oil & Gas     Oil & Gas Producers   Former Employee   \n",
       "5    Industrials  Industrial Engineering  Current Employee   \n",
       "6    Industrials     General Industrials  Current Employee   \n",
       "10           NaN                     NaN  Current Employee   \n",
       "11    Financials      Financial Services   Former Employee   \n",
       "\n",
       "             Job Title current_or_former  \n",
       "4          I T Analyst            Former  \n",
       "5    Welder/Fabricator           Current  \n",
       "6              Quality           Current  \n",
       "10    Security Officer           Current  \n",
       "11  Anonymous Employee            Former  "
      ]
     },
     "execution_count": 13,
     "metadata": {},
     "output_type": "execute_result"
    }
   ],
   "source": [
    "#filter to jobs in USA\n",
    "reviews_at_least_min_reviews_usa = reviews_at_least_min_reviews[reviews_at_least_min_reviews['Author Country']=='USA']\n",
    "\n",
    "print(reviews_at_least_min_reviews_usa.shape[0])\n",
    "\n",
    "reviews_at_least_min_reviews_usa.head()"
   ]
  },
  {
   "cell_type": "markdown",
   "metadata": {},
   "source": [
    "## Extract sample of 500,000 reviews from 100+ review companies"
   ]
  },
  {
   "cell_type": "code",
   "execution_count": 14,
   "metadata": {},
   "outputs": [],
   "source": [
    "#number of reviews to extract from reviews\n",
    "size_of_sample = 500000\n",
    "\n",
    "#extract size_of_sample reviews from reviews \n",
    "#(with at least 100 reviews)\n",
    "#set random state for reproducibility\n",
    "reviews_sample = reviews_at_least_min_reviews_usa.sample(n=size_of_sample, \n",
    "                                                     random_state=21).reset_index()"
   ]
  },
  {
   "cell_type": "markdown",
   "metadata": {},
   "source": [
    "# Labeling pros\n",
    "\n",
    "We will take a random sample of 1000 PROs reviews. We will then sentence tokenize each review and label each sentence into the difference categories. It should be noted that some sentences were labeled into multiple categories."
   ]
  },
  {
   "cell_type": "code",
   "execution_count": 17,
   "metadata": {},
   "outputs": [],
   "source": [
    "size_of_small_sample = 1000\n",
    "\n",
    "#PROs and CONs for 1000 reviews\n",
    "reviews_small_sample = reviews_sample.loc[:size_of_small_sample-1,['index','PROs','CONs']].copy().reset_index(drop=True)\n",
    "\n",
    "reviews_small_sample_pros = reviews_sample.loc[:size_of_small_sample-1,['index','PROs']]\n"
   ]
  },
  {
   "cell_type": "code",
   "execution_count": null,
   "metadata": {},
   "outputs": [],
   "source": [
    "#convert PROs to type string\n",
    "reviews_small_sample_pros.loc[:,'PROs'] = reviews_small_sample_pros.loc[:,'PROs'].apply(lambda pros: str(pros))"
   ]
  },
  {
   "cell_type": "code",
   "execution_count": 19,
   "metadata": {},
   "outputs": [],
   "source": [
    "#sentence tokenize each PRO and include as new column\n",
    "reviews_small_sample_pros.loc[:,'PROs_sentences'] = \\\n",
    "    reviews_small_sample_pros.loc[:,'PROs'].apply(lambda pros: sent_tokenize(pros))"
   ]
  },
  {
   "cell_type": "code",
   "execution_count": 22,
   "metadata": {},
   "outputs": [
    {
     "data": {
      "text/html": [
       "<div>\n",
       "<table border=\"1\" class=\"dataframe\">\n",
       "  <thead>\n",
       "    <tr style=\"text-align: right;\">\n",
       "      <th></th>\n",
       "      <th>index</th>\n",
       "      <th>PROs</th>\n",
       "      <th>PROs_sentences</th>\n",
       "    </tr>\n",
       "  </thead>\n",
       "  <tbody>\n",
       "    <tr>\n",
       "      <th>0</th>\n",
       "      <td>1791426</td>\n",
       "      <td>Nice people,always there to help and we have fun</td>\n",
       "      <td>[Nice people,always there to help and we have ...</td>\n",
       "    </tr>\n",
       "    <tr>\n",
       "      <th>1</th>\n",
       "      <td>1749854</td>\n",
       "      <td>Good pay, especially for retail. Opportunity t...</td>\n",
       "      <td>[Good pay, especially for retail., Opportunity...</td>\n",
       "    </tr>\n",
       "    <tr>\n",
       "      <th>2</th>\n",
       "      <td>2253474</td>\n",
       "      <td>People, Pay, Work, Perks and Location</td>\n",
       "      <td>[People, Pay, Work, Perks and Location]</td>\n",
       "    </tr>\n",
       "    <tr>\n",
       "      <th>3</th>\n",
       "      <td>1009831</td>\n",
       "      <td>Good benefits, great work life balance</td>\n",
       "      <td>[Good benefits, great work life balance]</td>\n",
       "    </tr>\n",
       "    <tr>\n",
       "      <th>4</th>\n",
       "      <td>2586930</td>\n",
       "      <td>Large company, maybe a good place to start a c...</td>\n",
       "      <td>[Large company, maybe a good place to start a ...</td>\n",
       "    </tr>\n",
       "  </tbody>\n",
       "</table>\n",
       "</div>"
      ],
      "text/plain": [
       "     index                                               PROs  \\\n",
       "0  1791426   Nice people,always there to help and we have fun   \n",
       "1  1749854  Good pay, especially for retail. Opportunity t...   \n",
       "2  2253474              People, Pay, Work, Perks and Location   \n",
       "3  1009831             Good benefits, great work life balance   \n",
       "4  2586930  Large company, maybe a good place to start a c...   \n",
       "\n",
       "                                      PROs_sentences  \n",
       "0  [Nice people,always there to help and we have ...  \n",
       "1  [Good pay, especially for retail., Opportunity...  \n",
       "2            [People, Pay, Work, Perks and Location]  \n",
       "3           [Good benefits, great work life balance]  \n",
       "4  [Large company, maybe a good place to start a ...  "
      ]
     },
     "execution_count": 22,
     "metadata": {},
     "output_type": "execute_result"
    }
   ],
   "source": [
    "#sentence tokenize\n",
    "reviews_small_sample_pros.head()"
   ]
  },
  {
   "cell_type": "code",
   "execution_count": 26,
   "metadata": {},
   "outputs": [],
   "source": [
    "def pros_to_df(series):\n",
    "    '''\n",
    "    Breaks up a review series into a DataFrame, with a row for every sentence in PROs.\n",
    "    \n",
    "    Args:\n",
    "    Series (index of review, PROs, PROs_sentences)\n",
    "    \n",
    "    Returns:\n",
    "    DataFrame ((number of sentences in PROs) x 4)\n",
    "    \n",
    "        Example return:\n",
    "        index     PROs                       sent_number   PROs_sentence\n",
    "        525143    Great pay! I liked the managers.    0    Great Pay!\n",
    "        525143    Great pay! I liked the managers.    1    I liked the managers.\n",
    "\n",
    "    '''\n",
    "    \n",
    "    pros_df = pd.DataFrame.from_dict({'index':series['index'],\n",
    "                                      'PROs':series['PROs'],\n",
    "                                      'PROs_sentence':series['PROs_sentences'],\n",
    "                                      'sent_number':range(len(series['PROs_sentences']))})\n",
    "    \n",
    "    return pros_df.loc[:,['index','PROs','sent_number','PROs_sentence']]"
   ]
  },
  {
   "cell_type": "code",
   "execution_count": 28,
   "metadata": {},
   "outputs": [
    {
     "name": "stdout",
     "output_type": "stream",
     "text": [
      "Time to concatenate 100 reviews: 3.352073907852173 seconds.\n"
     ]
    }
   ],
   "source": [
    "start_time = time.time()\n",
    "pros_sentences_df = pd.concat([pros_to_df(reviews_small_sample_pros.loc[idx,:]) \n",
    "                               for idx in range(reviews_small_sample_pros.shape[0])],\n",
    "                             ignore_index=True)\n",
    "\n",
    "#actually concatenate 1000 sentences\n",
    "print('Time to concatenate 100 reviews: {} seconds.'.format(time.time()-start_time))"
   ]
  },
  {
   "cell_type": "code",
   "execution_count": 29,
   "metadata": {},
   "outputs": [],
   "source": [
    "#label category of sentences into 6 categories: 5 original categories + 'Other'\n",
    "#   add extra column for labels\n",
    "pros_sentences_df.loc[:,'categories'] = pd.Series(['ToBeFilledIn']*pros_sentences_df.shape[0])"
   ]
  },
  {
   "cell_type": "code",
   "execution_count": 32,
   "metadata": {},
   "outputs": [],
   "source": [
    "pros_sentences_df.loc[:,'PROs_sentence'] = pros_sentences_df.loc[:,'PROs_sentence'].apply(lambda x: str(x))"
   ]
  },
  {
   "cell_type": "markdown",
   "metadata": {},
   "source": [
    "## Labeling PROs sentences\n",
    "\n",
    "We now are set up to label PROs sentences. In order to keep the reviews data confidential, I will simply show the code that enabled to input labels.\n",
    "\n",
    "We label in chunks of typically 200 sentences at a time."
   ]
  },
  {
   "cell_type": "code",
   "execution_count": 43,
   "metadata": {},
   "outputs": [],
   "source": [
    "pros_sentences_df_0_199 = pros_sentences_df.loc[0:199,:].copy()"
   ]
  },
  {
   "cell_type": "code",
   "execution_count": null,
   "metadata": {},
   "outputs": [],
   "source": [
    "for idx in range(pros_sentences_df_0_199.shape[0]):\n",
    "    print('\\n')\n",
    "    print(idx)\n",
    "    category = input('\\n' + pros_sentences_df.loc[idx,'PROs_sentence'] + '\\n\\n Category CV, WLB, SM, CB, CO, or O (or \"break\"): ')\n",
    "    if category == 'break':\n",
    "        print('Last index checked: {}'.format(idx-1))\n",
    "        break\n",
    "    else:\n",
    "        pros_sentences_df.loc[idx,'categories'] = category"
   ]
  },
  {
   "cell_type": "code",
   "execution_count": 54,
   "metadata": {},
   "outputs": [],
   "source": [
    "pros_sentences_df_0_199.to_csv('pros_sentences_df_0_199.csv')"
   ]
  },
  {
   "cell_type": "code",
   "execution_count": 55,
   "metadata": {},
   "outputs": [],
   "source": [
    "pros_sentences_df_200_399 = pros_sentences_df.loc[200:399,:].copy()"
   ]
  },
  {
   "cell_type": "code",
   "execution_count": 62,
   "metadata": {},
   "outputs": [],
   "source": [
    "def input_pros_categories(df):\n",
    "    '''\n",
    "    Enables user to classify pros sentences into different categories.\n",
    "    \n",
    "    Args:\n",
    "        DataFrame of review sentences.\n",
    "        \n",
    "    Outputs:\n",
    "        DataFrame of review sentences with categories inputted.\n",
    "        \n",
    "        Example return:\n",
    "        index     PROs                       sent_number   PROs_sentence           categories\n",
    "        525143    Great pay! I liked the managers.    0    Great Pay!              CB\n",
    "        525143    Great pay! I liked the managers.    1    I liked the managers.   SM\n",
    "    '''\n",
    "    \n",
    "    for idx in df.index:\n",
    "        print('\\n')\n",
    "        print(idx)\n",
    "        category = input('\\n' + df.loc[idx,'PROs_sentence'] + '\\n\\n Category CV, WLB, SM, CB, CO, or O (or \"break\"): ')\n",
    "        if category == 'break':\n",
    "            print('Last index checked: {}'.format(idx-1))\n",
    "            break\n",
    "        else:\n",
    "            df.loc[idx,'categories'] = category\n",
    "            \n",
    "    return df\n",
    "        "
   ]
  },
  {
   "cell_type": "code",
   "execution_count": null,
   "metadata": {},
   "outputs": [],
   "source": [
    "#label sentences 200-399\n",
    "pros_sentences_df_200_399 = input_pros_categories(pros_sentences_df_200_399)"
   ]
  },
  {
   "cell_type": "code",
   "execution_count": 64,
   "metadata": {},
   "outputs": [],
   "source": [
    "pros_sentences_df_200_399.to_csv('pros_sentences_df_200_399.csv')"
   ]
  },
  {
   "cell_type": "code",
   "execution_count": 66,
   "metadata": {},
   "outputs": [],
   "source": [
    "pros_sentences_df_400_599 = pros_sentences_df.loc[400:599,:].copy()"
   ]
  },
  {
   "cell_type": "code",
   "execution_count": null,
   "metadata": {},
   "outputs": [],
   "source": [
    "#label sentences 400-599\n",
    "pros_sentences_df_400_599 = input_pros_categories(pros_sentences_df_400_599)"
   ]
  },
  {
   "cell_type": "code",
   "execution_count": 69,
   "metadata": {},
   "outputs": [],
   "source": [
    "pros_sentences_df_400_599.to_csv('pros_sentences_df_400_599.csv')"
   ]
  },
  {
   "cell_type": "code",
   "execution_count": 70,
   "metadata": {},
   "outputs": [],
   "source": [
    "pros_sentences_df_600_999 = pros_sentences_df.loc[600:999,:].copy()"
   ]
  },
  {
   "cell_type": "code",
   "execution_count": null,
   "metadata": {},
   "outputs": [],
   "source": [
    "#label sentences 600-999\n",
    "pros_sentences_df_600_999 = input_pros_categories(pros_sentences_df_600_999)"
   ]
  },
  {
   "cell_type": "code",
   "execution_count": 73,
   "metadata": {},
   "outputs": [],
   "source": [
    "pros_sentences_df_600_999.to_csv('pros_sentences_df_600_999.csv')"
   ]
  },
  {
   "cell_type": "code",
   "execution_count": 76,
   "metadata": {},
   "outputs": [],
   "source": [
    "def replace_dash_period(a_string):\n",
    "    a_string = a_string.replace('.', '. ')\n",
    "    a_string = a_string.replace('-','. ')\n",
    "    a_string = a_string.replace('+', '. ')\n",
    "    \n",
    "    return a_string"
   ]
  },
  {
   "cell_type": "code",
   "execution_count": 80,
   "metadata": {},
   "outputs": [],
   "source": [
    "#have already sentences from first 543 reviews\n",
    "    #label sentences from rest of reviews 544-999\n",
    "reviews_pros_544_on = reviews_small_sample.loc[544:,['index','PROs']]\n",
    "\n",
    "reviews_pros_544_on.loc[:,'PROs'] = reviews_pros_544_on.loc[:,'PROs'].apply(lambda text: replace_dash_period(text))\n",
    "\n",
    "reviews_pros_544_on.loc[:,'PROs_sentences'] = reviews_pros_544_on.loc[:,'PROs'].apply(lambda text: sent_tokenize(text))"
   ]
  },
  {
   "cell_type": "code",
   "execution_count": 84,
   "metadata": {},
   "outputs": [],
   "source": [
    "#split up sentences from reviews 543-999 into separate rows\n",
    "pros_reviews_544_on_df = pd.concat([pros_to_df(reviews_pros_544_on.loc[idx,:])\n",
    "                                   for idx in reviews_pros_544_on.index],\n",
    "                                  ignore_index=True)"
   ]
  },
  {
   "cell_type": "code",
   "execution_count": 88,
   "metadata": {},
   "outputs": [
    {
     "data": {
      "text/plain": [
       "(993, 4)"
      ]
     },
     "execution_count": 88,
     "metadata": {},
     "output_type": "execute_result"
    }
   ],
   "source": [
    "pros_reviews_544_on_df.shape"
   ]
  },
  {
   "cell_type": "code",
   "execution_count": 90,
   "metadata": {},
   "outputs": [],
   "source": [
    "pros_reviews_544_on_df.loc[:,'categories'] = pd.Series(['ToBeFilledIn'\n",
    "                                                       for idx in range(pros_reviews_544_on_df.shape[0])])"
   ]
  },
  {
   "cell_type": "code",
   "execution_count": null,
   "metadata": {},
   "outputs": [],
   "source": [
    "#label reviews 544-99\n",
    "pros_reviews_544_on_df = input_pros_categories(pros_reviews_544_on_df)"
   ]
  },
  {
   "cell_type": "code",
   "execution_count": 109,
   "metadata": {},
   "outputs": [],
   "source": [
    "pros_reviews_544_on_df.to_csv('pros_reviews_544_on_df.csv')"
   ]
  },
  {
   "cell_type": "markdown",
   "metadata": {},
   "source": [
    "## Labeling negative reviews\n",
    "\n",
    "After labeling the 1000 reviews, we now need to do the same for CONs. We will start that here, labeling 1000 CONs sentences. We will label the other 1000 in another notebook in this 'hand labeling' subdirectory."
   ]
  },
  {
   "cell_type": "code",
   "execution_count": 111,
   "metadata": {},
   "outputs": [],
   "source": [
    "reviews_small_sample_cons = reviews_sample.loc[:size_of_small_sample-1,['index','CONs']]\n"
   ]
  },
  {
   "cell_type": "code",
   "execution_count": 118,
   "metadata": {},
   "outputs": [],
   "source": [
    "#make sure CONs are type string\n",
    "reviews_small_sample_cons.loc[:,'CONs'] = reviews_small_sample_cons.loc[:,'CONs'].apply(lambda pros: str(pros))\n",
    "\n",
    "def replace_period(a_string):\n",
    "    '''\n",
    "    Turns '.' and '+' into '. ' in sentences to help sentence tokenizer work right.\n",
    "    '''\n",
    "    a_string = a_string.replace('.', '. ')\n",
    "    a_string = a_string.replace('+', '. ')\n",
    "    \n",
    "    return a_string\n",
    "\n",
    "#fix TEXT1.TEXT2 by adding space after periods\n",
    "reviews_small_sample_cons.loc[:,'CONs'] = reviews_small_sample_cons.loc[:,'CONs'].apply(lambda cons: replace_period(cons))\n",
    "\n",
    "#tokenize sentences\n",
    "reviews_small_sample_cons.loc[:,'CONs_sentences'] = reviews_small_sample_cons.loc[:,'CONs'].apply(lambda cons: sent_tokenize(cons))"
   ]
  },
  {
   "cell_type": "code",
   "execution_count": 132,
   "metadata": {},
   "outputs": [],
   "source": [
    "def cons_to_df(series):\n",
    "    '''\n",
    "    Breaks up a review series into a DataFrame, with a row for every sentence in CONs.\n",
    "    \n",
    "    Args:\n",
    "    Series (index of review, CONs)\n",
    "    \n",
    "    Returns:\n",
    "    DataFrame ((number of sentences in CONs) x 4)\n",
    "    \n",
    "        Example return:\n",
    "        index     PROs                       sent_number   PROs_sentence           categories\n",
    "        525143    Bad pay! I hated the managers.    0      Bad Pay!                CB\n",
    "        525143    Bad pay! I hated the managers.    1      I liked the managers.   SM\n",
    "    '''\n",
    "    \n",
    "    cons_df = pd.DataFrame.from_dict({'index':series['index'],\n",
    "                                      'CONs':series['CONs'],\n",
    "                                      'CONs_sentence':series['CONs_sentences'],\n",
    "                                      'sent_number':range(len(series['CONs_sentences']))})\n",
    "    \n",
    "    return cons_df.loc[:,['index','CONs','sent_number','CONs_sentence']]"
   ]
  },
  {
   "cell_type": "code",
   "execution_count": 133,
   "metadata": {},
   "outputs": [],
   "source": [
    "#split up reviews into a row for each sentence\n",
    "cons_sentences_df = pd.concat([cons_to_df(reviews_small_sample_cons.loc[idx,:])\n",
    "                              for idx in range(reviews_small_sample_cons.shape[0])],\n",
    "                             ignore_index=True)"
   ]
  },
  {
   "cell_type": "code",
   "execution_count": 135,
   "metadata": {},
   "outputs": [],
   "source": [
    "def input_cons_categories(df):\n",
    "    '''\n",
    "    Enables user to classify cons as belonging into different categories.\n",
    "    \n",
    "    Args:\n",
    "        DataFrame with sentences from reviews.\n",
    "    '''\n",
    "    \n",
    "    for idx in df.index:\n",
    "        print('\\n')\n",
    "        print(idx)\n",
    "        category = input('\\n' + df.loc[idx,'CONs_sentence'] + '\\n\\n Category CV, WLB, SM, CB, CO, or O (or \"break\"): ')\n",
    "        if category == 'break':\n",
    "            print('Last index checked: {}'.format(idx-1))\n",
    "            break\n",
    "        else:\n",
    "            df.loc[idx,'categories'] = category\n",
    "            \n",
    "    return df"
   ]
  },
  {
   "cell_type": "code",
   "execution_count": null,
   "metadata": {},
   "outputs": [],
   "source": [
    "#label first 100 CONs sentences\n",
    "cons_sentences_df_0_99 = input_cons_categories(cons_sentences_df.loc[0:99,:].copy())"
   ]
  },
  {
   "cell_type": "code",
   "execution_count": 137,
   "metadata": {},
   "outputs": [
    {
     "name": "stderr",
     "output_type": "stream",
     "text": [
      "/Users/derekjung/anaconda/lib/python3.6/site-packages/pandas/core/indexing.py:477: SettingWithCopyWarning: \n",
      "A value is trying to be set on a copy of a slice from a DataFrame.\n",
      "Try using .loc[row_indexer,col_indexer] = value instead\n",
      "\n",
      "See the caveats in the documentation: http://pandas.pydata.org/pandas-docs/stable/indexing.html#indexing-view-versus-copy\n",
      "  self.obj[item] = s\n"
     ]
    }
   ],
   "source": [
    "cons_sentences_df_0_99.loc[17,'categories'] = 'CV, SM'"
   ]
  },
  {
   "cell_type": "code",
   "execution_count": 139,
   "metadata": {},
   "outputs": [],
   "source": [
    "cons_sentences_df_0_99.to_csv('cons_sentences_df_0_99.csv')"
   ]
  },
  {
   "cell_type": "code",
   "execution_count": 140,
   "metadata": {},
   "outputs": [],
   "source": [
    "cons_sentences_df_100_999 = cons_sentences_df.loc[100:999,:].copy()\n",
    "\n",
    "cons_sentences_df_100_999.loc[:,'categories'] = pd.Series(['ToBeFilledIn' for idx in cons_sentences_df_100_999.index])"
   ]
  },
  {
   "cell_type": "code",
   "execution_count": null,
   "metadata": {},
   "outputs": [],
   "source": [
    "#label sentences 100-999\n",
    "cons_sentences_df_100_999 = input_cons_categories(cons_sentences_df_100_999)"
   ]
  },
  {
   "cell_type": "code",
   "execution_count": 145,
   "metadata": {},
   "outputs": [],
   "source": [
    "cons_sentences_df_100_999.to_csv('cons_sentences_df_100_999.csv')"
   ]
  }
 ],
 "metadata": {
  "kernelspec": {
   "display_name": "Python 3",
   "language": "python",
   "name": "python3"
  },
  "language_info": {
   "codemirror_mode": {
    "name": "ipython",
    "version": 3
   },
   "file_extension": ".py",
   "mimetype": "text/x-python",
   "name": "python",
   "nbconvert_exporter": "python",
   "pygments_lexer": "ipython3",
   "version": "3.6.5"
  }
 },
 "nbformat": 4,
 "nbformat_minor": 2
}
