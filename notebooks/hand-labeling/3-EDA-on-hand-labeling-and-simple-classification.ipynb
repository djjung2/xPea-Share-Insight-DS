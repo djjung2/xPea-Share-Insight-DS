{
 "cells": [
  {
   "cell_type": "markdown",
   "metadata": {},
   "source": [
    "# EDA on hand-labeling and simple classification\n",
    "\n",
    "In this notebook, I will start by doing exploratory data analysis on the labeled sentences. For example:\n",
    "1. How many did I label of each category?\n",
    "2. For each category, what percentage of sentences were labeled in that category?\n",
    "3. How many sentences were just labeled as 'Other'?\n",
    "\n",
    "I will find that for all 7 of the 10 bins (one for each category and PRO/CON), I labeled less than $20\\%$ of the review sentences in that bin. Thus, class imbalance is something we need to consider when classifying.\n",
    "\n",
    "Then I will do some classification with a Word2Vec model trained on the hand-labeled data. For my model, I will compare the performances of Logistic Regression and Random Forest Classifiers. I will also do Grid Search with Stratified K-fold cross validation (due to class imbalance). I will find that the recall is very low, hence these models will not be sufficient for our desires, but it will still be a useful baseline to improve from. Also, I'll find that Logistic Regression perform better."
   ]
  },
  {
   "cell_type": "code",
   "execution_count": 1,
   "metadata": {},
   "outputs": [],
   "source": [
    "import pandas as pd\n",
    "import numpy as np\n",
    "from numpy.testing import assert_array_equal\n",
    "\n",
    "%matplotlib inline\n",
    "import matplotlib as mpl\n",
    "import matplotlib.pyplot as plt\n",
    "import seaborn as sns\n",
    "\n",
    "#set default seaborn plotting style\n",
    "sns.set_style('white')\n",
    "\n",
    "import time\n",
    "import gensim\n",
    "\n",
    "import nltk\n",
    "from nltk.corpus import stopwords\n",
    "from nltk.tokenize import RegexpTokenizer\n",
    "\n",
    "from sklearn.model_selection import train_test_split\n",
    "from sklearn.metrics import accuracy_score, classification_report\n",
    "from sklearn.pipeline import Pipeline\n",
    "from sklearn.linear_model import LogisticRegression\n",
    "from sklearn.preprocessing import StandardScaler\n",
    "from sklearn.model_selection import train_test_split\n",
    "from sklearn.model_selection import StratifiedKFold\n",
    "from sklearn.model_selection import cross_val_score\n",
    "from sklearn.model_selection import GridSearchCV\n",
    "from sklearn.ensemble import RandomForestClassifier"
   ]
  },
  {
   "cell_type": "markdown",
   "metadata": {},
   "source": [
    "## Import hand-labeled PROs and CONs sentences"
   ]
  },
  {
   "cell_type": "code",
   "execution_count": 2,
   "metadata": {},
   "outputs": [],
   "source": [
    "#all 1993 hand-labeled PROs sentences\n",
    "pros_sentences = pd.read_csv('pros_sentences_labeled.csv', index_col='Unnamed: 0')"
   ]
  },
  {
   "cell_type": "code",
   "execution_count": 4,
   "metadata": {},
   "outputs": [],
   "source": [
    "#all 2000 hand-labeled CONs sentences\n",
    "cons_sentences = pd.read_csv('cons_sentences_labeled.csv', index_col='Unnamed: 0')"
   ]
  },
  {
   "cell_type": "markdown",
   "metadata": {},
   "source": [
    "# Frequency of labeled reviews by category\n",
    "\n",
    "For each of 10 bins (one for each category and PRO/CON), I will calculate the frequency and percentage of sentences that were labeled to be in that bin. I will find that there is some major class imbalance."
   ]
  },
  {
   "cell_type": "code",
   "execution_count": 6,
   "metadata": {},
   "outputs": [
    {
     "name": "stdout",
     "output_type": "stream",
     "text": [
      "Pros (1 if sentence labeled in category, 0 otherwise)\n",
      "--------------------------------------------------\n",
      "Culture & Values\n",
      "Frequency:\n",
      "0    1267\n",
      "1     726\n",
      "Name: Culture & Values, dtype: int64\n",
      "Percentages:\n",
      "0    63.572504\n",
      "1    36.427496\n",
      "Name: Culture & Values, dtype: float64\n",
      "--------------------------------------------------\n",
      "Work/Life Balance\n",
      "Frequency:\n",
      "0    1734\n",
      "1     259\n",
      "Name: Work/Life Balance, dtype: int64\n",
      "Percentages:\n",
      "0    87.004516\n",
      "1    12.995484\n",
      "Name: Work/Life Balance, dtype: float64\n",
      "--------------------------------------------------\n",
      "Senior Management\n",
      "Frequency:\n",
      "0    1822\n",
      "1     171\n",
      "Name: Senior Management, dtype: int64\n",
      "Percentages:\n",
      "0    91.41997\n",
      "1     8.58003\n",
      "Name: Senior Management, dtype: float64\n",
      "--------------------------------------------------\n",
      "Comp & Benefits\n",
      "Frequency:\n",
      "0    1351\n",
      "1     642\n",
      "Name: Comp & Benefits, dtype: int64\n",
      "Percentages:\n",
      "0    67.787255\n",
      "1    32.212745\n",
      "Name: Comp & Benefits, dtype: float64\n",
      "--------------------------------------------------\n",
      "Career Opportunities\n",
      "Frequency:\n",
      "0    1617\n",
      "1     376\n",
      "Name: Career Opportunities, dtype: int64\n",
      "Percentages:\n",
      "0    81.133969\n",
      "1    18.866031\n",
      "Name: Career Opportunities, dtype: float64\n",
      "--------------------------------------------------\n",
      "Other\n",
      "Frequency:\n",
      "0    1680\n",
      "1     313\n",
      "Name: Other, dtype: int64\n",
      "Percentages:\n",
      "0    84.295033\n",
      "1    15.704967\n",
      "Name: Other, dtype: float64\n",
      "--------------------------------------------------\n"
     ]
    }
   ],
   "source": [
    "pros_categories = ['Culture & Values', 'Work/Life Balance', 'Senior Management',\n",
    "       'Comp & Benefits', 'Career Opportunities', 'Other']\n",
    "\n",
    "print('Pros (1 if sentence labeled in category, 0 otherwise)')\n",
    "print('-'*50)\n",
    "\n",
    "for cat in pros_categories:\n",
    "    print(cat)\n",
    "    print('Frequency:')\n",
    "    print(pros_sentences.loc[:,cat].value_counts())\n",
    "    print('Percentages:')\n",
    "    print(pros_sentences.loc[:,cat].value_counts()/pros_sentences.shape[0]*100)\n",
    "    print('-'*50)\n"
   ]
  },
  {
   "cell_type": "code",
   "execution_count": 7,
   "metadata": {},
   "outputs": [
    {
     "name": "stdout",
     "output_type": "stream",
     "text": [
      "Cons (1 if sentence labeled in category, 0 otherwise)\n",
      "--------------------------------------------------\n",
      "Culture & Values\n",
      "Frequency:\n",
      "0    1312\n",
      "1     688\n",
      "Name: Culture & Values, dtype: int64\n",
      "Percentages:\n",
      "0    65.6\n",
      "1    34.4\n",
      "Name: Culture & Values, dtype: float64\n",
      "--------------------------------------------------\n",
      "Work/Life Balance\n",
      "Frequency:\n",
      "0    1764\n",
      "1     236\n",
      "Name: Work/Life Balance, dtype: int64\n",
      "Percentages:\n",
      "0    88.2\n",
      "1    11.8\n",
      "Name: Work/Life Balance, dtype: float64\n",
      "--------------------------------------------------\n",
      "Senior Management\n",
      "Frequency:\n",
      "0    1697\n",
      "1     303\n",
      "Name: Senior Management, dtype: int64\n",
      "Percentages:\n",
      "0    84.85\n",
      "1    15.15\n",
      "Name: Senior Management, dtype: float64\n",
      "--------------------------------------------------\n",
      "Comp & Benefits\n",
      "Frequency:\n",
      "0    1705\n",
      "1     295\n",
      "Name: Comp & Benefits, dtype: int64\n",
      "Percentages:\n",
      "0    85.25\n",
      "1    14.75\n",
      "Name: Comp & Benefits, dtype: float64\n",
      "--------------------------------------------------\n",
      "Career Opportunities\n",
      "Frequency:\n",
      "0    1668\n",
      "1     332\n",
      "Name: Career Opportunities, dtype: int64\n",
      "Percentages:\n",
      "0    83.4\n",
      "1    16.6\n",
      "Name: Career Opportunities, dtype: float64\n",
      "--------------------------------------------------\n",
      "Technology\n",
      "Frequency:\n",
      "0    1947\n",
      "1      53\n",
      "Name: Technology, dtype: int64\n",
      "Percentages:\n",
      "0    97.35\n",
      "1     2.65\n",
      "Name: Technology, dtype: float64\n",
      "--------------------------------------------------\n",
      "Other\n",
      "Frequency:\n",
      "0    1505\n",
      "1     495\n",
      "Name: Other, dtype: int64\n",
      "Percentages:\n",
      "0    75.25\n",
      "1    24.75\n",
      "Name: Other, dtype: float64\n",
      "--------------------------------------------------\n"
     ]
    }
   ],
   "source": [
    "cons_categories = ['Culture & Values', 'Work/Life Balance', 'Senior Management',\n",
    "       'Comp & Benefits', 'Career Opportunities', 'Technology', 'Other']\n",
    "\n",
    "print('Cons (1 if sentence labeled in category, 0 otherwise)')\n",
    "print('-'*50)\n",
    "\n",
    "for cat in cons_categories:\n",
    "    print(cat)\n",
    "    print('Frequency:')\n",
    "    print(cons_sentences.loc[:,cat].value_counts())\n",
    "    print('Percentages:')\n",
    "    print(cons_sentences.loc[:,cat].value_counts()/cons_sentences.shape[0]*100)\n",
    "    print('-'*50)"
   ]
  },
  {
   "cell_type": "markdown",
   "metadata": {},
   "source": [
    "We will remove 'Technology' as a category. There are only 53 Cons sentences labeled as such. That may not be enough to create a meaningful prediction of if a sentence is concerned about 'Technology'."
   ]
  },
  {
   "cell_type": "markdown",
   "metadata": {},
   "source": [
    "## Word tokenize sentences"
   ]
  },
  {
   "cell_type": "code",
   "execution_count": 8,
   "metadata": {},
   "outputs": [],
   "source": [
    "tokenizer = RegexpTokenizer(r'\\w+')\n",
    "\n",
    "stop_words = set(stopwords.words('english'))\n",
    "\n",
    "def tokenize_a_sentence(sentence, tokenizer_input):\n",
    "    '''\n",
    "    Remove stopwords, make lowercase and tokenize.\n",
    "    \n",
    "    Args:\n",
    "        sentence\n",
    "    \n",
    "    Returns:\n",
    "        Sentence with stop words removed and made lowercase. For example:\n",
    "            \"You are my best Friend\" --> [\"are\", \"best\", \"friend\"]            \n",
    "    '''\n",
    "        \n",
    "    sentence = ' '.join([word.lower() for word in sentence.split() if word not in stop_words])\n",
    "    \n",
    "    return tokenizer_input.tokenize(sentence)"
   ]
  },
  {
   "cell_type": "code",
   "execution_count": 9,
   "metadata": {},
   "outputs": [],
   "source": [
    "#create new column of tokens for each sentence\n",
    "pros_sentences.loc[:,'tokens'] = pros_sentences.loc[:,'PROs_sentence'].\\\n",
    "    apply(lambda sentence: tokenize_a_sentence(sentence, tokenizer))"
   ]
  },
  {
   "cell_type": "markdown",
   "metadata": {},
   "source": [
    "## Word2Vec Representation of sentences\n",
    "\n",
    "We now need to find Word2Vec representation of each labeled sentence. To do this, we need to find the representation of every word. The representation of a sentence will be given by the average of the sentences words (modulo stop words).\n",
    "\n",
    "I originally tried to use a pretrained Word2Vec model via Glove, but it didn't contain common words, like 'opportunity' and 'benefits.' Thus, I will train a own model using the PROs and CONs sentences."
   ]
  },
  {
   "cell_type": "code",
   "execution_count": 12,
   "metadata": {},
   "outputs": [],
   "source": [
    "#number of dimensions for Word2Vec model\n",
    "dim = 100\n",
    "\n",
    "#train Word2Vec model on tokens\n",
    "model = gensim.models.Word2Vec(list(pros_sentences.loc[:,'tokens']), size=dim)\n",
    "w2v = dict(zip(model.wv.index2word, model.wv.vectors))"
   ]
  },
  {
   "cell_type": "code",
   "execution_count": 13,
   "metadata": {},
   "outputs": [],
   "source": [
    "#check that it contains some commonly used words\n",
    "assert(model.wv.__contains__('opportunity'))\n",
    "assert(model.wv.__contains__('work'))\n",
    "assert(model.wv.__contains__('benefits'))"
   ]
  },
  {
   "cell_type": "code",
   "execution_count": 14,
   "metadata": {},
   "outputs": [],
   "source": [
    "def average_of_tokens(tokens):\n",
    "    '''\n",
    "    Computes average of list of tokens' vector representations.\n",
    "    \n",
    "    Args:\n",
    "        List of word tokens\n",
    "    \n",
    "    Returns:\n",
    "        100-dimensional vector\n",
    "    '''\n",
    "    return np.array([np.mean([model[w] for w in tokens if w in model]\n",
    "                            or [np.zeros(dim)], axis=0)])"
   ]
  },
  {
   "cell_type": "markdown",
   "metadata": {},
   "source": [
    "### Vectorize pros sentences from sample of 1993\n",
    "\n",
    "We will vectorize all of the sentences from our sample of 1993."
   ]
  },
  {
   "cell_type": "code",
   "execution_count": 15,
   "metadata": {},
   "outputs": [
    {
     "name": "stderr",
     "output_type": "stream",
     "text": [
      "/Users/derekjung/anaconda/lib/python3.6/site-packages/ipykernel/__main__.py:11: DeprecationWarning: Call to deprecated `__contains__` (Method will be removed in 4.0.0, use self.wv.__contains__() instead).\n",
      "/Users/derekjung/anaconda/lib/python3.6/site-packages/ipykernel/__main__.py:11: DeprecationWarning: Call to deprecated `__getitem__` (Method will be removed in 4.0.0, use self.wv.__getitem__() instead).\n"
     ]
    }
   ],
   "source": [
    "pros_sentences_vectors_array = np.zeros((pros_sentences.shape[0], dim))\n",
    "\n",
    "\n",
    "#store vectorizations of sentences in 100-column array\n",
    "for idx in range(pros_sentences.shape[0]):\n",
    "    pros_sentences_vectors_array[idx] = average_of_tokens(pros_sentences.loc[idx,'tokens'])"
   ]
  },
  {
   "cell_type": "code",
   "execution_count": 16,
   "metadata": {},
   "outputs": [
    {
     "name": "stderr",
     "output_type": "stream",
     "text": [
      "/Users/derekjung/anaconda/lib/python3.6/site-packages/ipykernel/__main__.py:11: DeprecationWarning: Call to deprecated `__contains__` (Method will be removed in 4.0.0, use self.wv.__contains__() instead).\n",
      "/Users/derekjung/anaconda/lib/python3.6/site-packages/ipykernel/__main__.py:11: DeprecationWarning: Call to deprecated `__getitem__` (Method will be removed in 4.0.0, use self.wv.__getitem__() instead).\n"
     ]
    }
   ],
   "source": [
    "#see that first row matches what we expect (representation of first pro sentence)\n",
    "assert_array_equal(pros_sentences_vectors_array[0], \n",
    "                   average_of_tokens(pros_sentences.loc[0,'tokens']).reshape((100,)))"
   ]
  },
  {
   "cell_type": "code",
   "execution_count": 17,
   "metadata": {},
   "outputs": [],
   "source": [
    "#check that array has right shape (number of pros sentences x vector dimension)\n",
    "assert(pros_sentences_vectors_array.shape == (pros_sentences.shape[0], dim))"
   ]
  },
  {
   "cell_type": "code",
   "execution_count": 18,
   "metadata": {},
   "outputs": [],
   "source": [
    "#store Word2Vec sentence vectors as DataFrame\n",
    "pros_sentences_vectors_df = pd.DataFrame(pros_sentences_vectors_array)"
   ]
  },
  {
   "cell_type": "markdown",
   "metadata": {},
   "source": [
    "## Classification of Culture & Values with Logistic Regression\n",
    "\n",
    "I will try to find the best classification for predicting labels. I will start by trying to predict whether a PROs sentence is related to 'Culture & Values.'\n",
    "\n",
    "We see (in the next plot) that our data is clustered around 0. To make our model more effective, we will use a Standard Scaler."
   ]
  },
  {
   "cell_type": "code",
   "execution_count": 19,
   "metadata": {},
   "outputs": [
    {
     "data": {
      "image/png": "[encoded data removed]",
      "text/plain": [
       "<Figure size 576x396 with 1 Axes>"
      ]
     },
     "metadata": {},
     "output_type": "display_data"
    }
   ],
   "source": [
    "#roughly compare distributions of first three Word2Vec features\n",
    "for idx in range(3):\n",
    "    pros_sentences_vectors_df.loc[:,idx].hist()"
   ]
  },
  {
   "cell_type": "code",
   "execution_count": 20,
   "metadata": {
    "scrolled": true
   },
   "outputs": [
    {
     "name": "stdout",
     "output_type": "stream",
     "text": [
      "Values for C: [1.00000000e-03 3.16227766e-03 1.00000000e-02 3.16227766e-02\n",
      " 1.00000000e-01 3.16227766e-01 1.00000000e+00 3.16227766e+00\n",
      " 1.00000000e+01 3.16227766e+01 1.00000000e+02 3.16227766e+02\n",
      " 1.00000000e+03 3.16227766e+03 1.00000000e+04 3.16227766e+04\n",
      " 1.00000000e+05 3.16227766e+05 1.00000000e+06 3.16227766e+06\n",
      " 1.00000000e+07 3.16227766e+07 1.00000000e+08 3.16227766e+08\n",
      " 1.00000000e+09 3.16227766e+09 1.00000000e+10]\n"
     ]
    }
   ],
   "source": [
    "#Logistic Regression pipeline\n",
    "lrp = Pipeline([('ss', StandardScaler()),\n",
    "               ('lr', LogisticRegression(random_state=23))])\n",
    "\n",
    "#C values for Logistic Regression\n",
    "c_vals = np.logspace(-3,10,27)\n",
    "\n",
    "print('Values for C: {}'.format(c_vals))"
   ]
  },
  {
   "cell_type": "code",
   "execution_count": 21,
   "metadata": {},
   "outputs": [],
   "source": [
    "#reserve 75% of data for training\n",
    "#stratify to make sure that equal representation of Culture & Values \n",
    "x_train_culture, x_test_culture, y_train_culture, y_test_culture = \\\n",
    "    train_test_split(pros_sentences_vectors_df, \n",
    "                     pros_sentences.loc[:,'Culture & Values'],\n",
    "                    test_size=0.25,\n",
    "                     stratify=pros_sentences.loc[:,'Culture & Values'],\n",
    "                    random_state=23)"
   ]
  },
  {
   "cell_type": "code",
   "execution_count": 22,
   "metadata": {},
   "outputs": [],
   "source": [
    "#do k-fold cross-validation to maintain class balance\n",
    "skf = StratifiedKFold(n_splits=5, random_state=23)"
   ]
  },
  {
   "cell_type": "code",
   "execution_count": 32,
   "metadata": {},
   "outputs": [
    {
     "name": "stdout",
     "output_type": "stream",
     "text": [
      "27 LogisticRegression models took 16.060067176818848 seconds.\n"
     ]
    }
   ],
   "source": [
    "start_time = time.time()\n",
    "\n",
    "#create arrays to hold cross-validation stats\n",
    "scr_mean_culture = np.zeros(c_vals.shape)\n",
    "scr_std_culture = np.zeros(c_vals.shape)\n",
    "\n",
    "for idx, c in enumerate(c_vals):\n",
    "    lrp.set_params(lr__C = c)\n",
    "    score = cross_val_score(lrp, x_train_culture, y_train_culture, cv=skf)\n",
    "    scr_mean_culture[idx] = np.mean(score)\n",
    "    scr_std_culture[idx] = np.std(score)\n",
    "    \n",
    "print('{} LogisticRegression models took {} seconds'.format(c_vals.shape[0], \n",
    "                                                            str(time.time() - start_time))\n",
    "      "
   ]
  },
  {
   "cell_type": "code",
   "execution_count": 33,
   "metadata": {},
   "outputs": [
    {
     "name": "stdout",
     "output_type": "stream",
     "text": [
      "Best score = 0.722 +/- 0.011\n",
      "Best C param = 10.000\n"
     ]
    }
   ],
   "source": [
    "#find best score\n",
    "idx = np.argmax(scr_mean_culture)\n",
    "\n",
    "#display best score with error and associated 'C\" value\n",
    "\n",
    "print(f'Best score = {scr_mean_culture[idx]:5.3f} +/- {scr_std_culture[idx]:5.3f}')\n",
    "print(f'Best C param = {c_vals[idx]:5.3f}')"
   ]
  },
  {
   "cell_type": "code",
   "execution_count": 34,
   "metadata": {},
   "outputs": [
    {
     "name": "stdout",
     "output_type": "stream",
     "text": [
      "             precision    recall  f1-score   support\n",
      "\n",
      "          0       0.77      0.87      0.82       317\n",
      "          1       0.72      0.55      0.63       182\n",
      "\n",
      "avg / total       0.75      0.76      0.75       499\n",
      "\n"
     ]
    }
   ],
   "source": [
    "#now perform standard performance testing by creating and applying model to test data\n",
    "\n",
    "#set parameter to best value\n",
    "lrp.set_params(lr__C = c_vals[idx])\n",
    "\n",
    "#Train model and predict on test data\n",
    "lrp.fit(x_train_culture, y_train_culture)\n",
    "y_pred_culture = lrp.predict(x_test_culture)\n",
    "\n",
    "#Generate classification report\n",
    "print(classification_report(y_test_culture,y_pred_culture))"
   ]
  },
  {
   "cell_type": "code",
   "execution_count": 26,
   "metadata": {},
   "outputs": [
    {
     "data": {
      "image/png": "[encoded data removed]",
      "text/plain": [
       "<Figure size 720x576 with 1 Axes>"
      ]
     },
     "metadata": {},
     "output_type": "display_data"
    }
   ],
   "source": [
    "#Define confidence interval\n",
    "high = scr_mean_culture + scr_std_culture\n",
    "low = scr_mean_culture - scr_std_culture\n",
    "\n",
    "#plot results\n",
    "fig, ax = plt.subplots(figsize=(10,8))\n",
    "\n",
    "# Plot confidence interval\n",
    "ax.semilogx(c_vals, scr_mean_culture,\n",
    "           color = sns.xkcd_rgb[\"denim blue\"], linewidth=4)\n",
    "ax.fill_between(c_vals, high, low,\n",
    "               color=sns.xkcd_rgb['dusty purple'], alpha=0.25)\n",
    "\n",
    "# Mark the best 'C' value\n",
    "ax.vlines(c_vals[idx], 0.6, 0.8, linestyles='-.',\n",
    "         color = sns.xkcd_rgb[\"pale red\"])\n",
    "ax.text(c_vals[idx], 0.85, 'Best Value',\n",
    "       horizontalalignment='center',\n",
    "       verticalalignment='top')\n",
    "\n",
    "#Decorate plot\n",
    "ax.set(title='LR Parameter Selection',\n",
    "      xlabel='C parameter',\n",
    "      ylabel='CV Score',\n",
    "      ylim=(0.5, 0.8))\n",
    "\n",
    "#ax.legend(loc=4, borderaxespad=1.5)\n",
    "sns.despine(offset=5, trim=True)"
   ]
  },
  {
   "cell_type": "markdown",
   "metadata": {},
   "source": [
    "## Classification with Random Forests and GridSearchCV\n",
    "\n",
    "I will now compare the previous performance with that using Random Forest Classifiers."
   ]
  },
  {
   "cell_type": "code",
   "execution_count": 27,
   "metadata": {},
   "outputs": [],
   "source": [
    "#make Random Forest Classifier pipeline\n",
    "rfcp = Pipeline([('ss', StandardScaler()),\n",
    "               ('rfc', RandomForestClassifier(random_state=23))])"
   ]
  },
  {
   "cell_type": "code",
   "execution_count": 28,
   "metadata": {},
   "outputs": [
    {
     "name": "stdout",
     "output_type": "stream",
     "text": [
      "Took 56.76226592063904 seconds to train 7 RFC\"s\n",
      "Best number of estimators = 140.0000\n",
      "Best CV Score = 0.688\n"
     ]
    }
   ],
   "source": [
    "start_time = time.time()\n",
    "\n",
    "#create dictionary of hyperparameters\n",
    "#n_estimators = [10, 20, 50, 100, 150, 200, 250, 300] #find best number of estimators at 150\n",
    "n_estimators = [120, 130, 140, 150, 160, 170, 180]\n",
    "params = dict(rfc__n_estimators=n_estimators)\n",
    "\n",
    "#create grid search cross validator\n",
    "gse = GridSearchCV(estimator=rfcp, param_grid=params, cv=skf)\n",
    "\n",
    "#fit estimator\n",
    "gse.fit(x_train_culture, y_train_culture)\n",
    "\n",
    "#Display time and best estimator results\n",
    "print('Took {} seconds to train {} RFC\"s'.format(time.time() - start_time, \n",
    "                                                 len(n_estimators)))\n",
    "\n",
    "print('Best number of estimators = {0:5.4f}'.format(gse.best_estimator_.get_params()['rfc__n_estimators']))\n",
    "print('Best CV Score = {0:4.3f}'.format(gse.best_score_))\n"
   ]
  },
  {
   "cell_type": "code",
   "execution_count": 29,
   "metadata": {},
   "outputs": [
    {
     "name": "stdout",
     "output_type": "stream",
     "text": [
      "             precision    recall  f1-score   support\n",
      "\n",
      "          0       0.70      0.90      0.79       317\n",
      "          1       0.65      0.34      0.45       182\n",
      "\n",
      "avg / total       0.68      0.69      0.66       499\n",
      "\n"
     ]
    }
   ],
   "source": [
    "rfcp.set_params(rfc__n_estimators = 160)\n",
    "\n",
    "rfcp.fit(x_train_culture, y_train_culture)\n",
    "y_pred = rfcp.predict(x_test_culture)\n",
    "\n",
    "print(classification_report(y_test_culture, y_pred))"
   ]
  },
  {
   "cell_type": "markdown",
   "metadata": {},
   "source": [
    "## Classification of Work/Life Balance"
   ]
  },
  {
   "cell_type": "code",
   "execution_count": 48,
   "metadata": {},
   "outputs": [
    {
     "data": {
      "text/plain": [
       "array([1.00000000e-03, 3.16227766e-03, 1.00000000e-02, 3.16227766e-02,\n",
       "       1.00000000e-01, 3.16227766e-01, 1.00000000e+00, 3.16227766e+00,\n",
       "       1.00000000e+01, 3.16227766e+01, 1.00000000e+02, 3.16227766e+02,\n",
       "       1.00000000e+03, 3.16227766e+03, 1.00000000e+04])"
      ]
     },
     "execution_count": 48,
     "metadata": {},
     "output_type": "execute_result"
    }
   ],
   "source": [
    "c_vals = np.logspace(-3,4,15)\n",
    "\n",
    "c_vals"
   ]
  },
  {
   "cell_type": "code",
   "execution_count": 40,
   "metadata": {},
   "outputs": [],
   "source": [
    "x_train_worklife, x_test_worklife, y_train_worklife, y_test_worklife = \\\n",
    "        train_test_split(pros_sentences_vectors_df, \n",
    "                         pros_sentences.loc[:,'Work/Life Balance'],\n",
    "                         test_size=0.25,\n",
    "                         stratify=pros_sentences.loc[:,'Work/Life Balance'],\n",
    "                         random_state=23)"
   ]
  },
  {
   "cell_type": "code",
   "execution_count": 51,
   "metadata": {},
   "outputs": [
    {
     "name": "stdout",
     "output_type": "stream",
     "text": [
      "Training 15 Logistic Regression models took 6.406237363815308 seconds\n"
     ]
    }
   ],
   "source": [
    "start_time = time.time()\n",
    "\n",
    "#create arrays to hold CV stats\n",
    "scr_mean_worklife = np.zeros(c_vals.shape)\n",
    "scr_std_worklife = np.zeros(c_vals.shape)\n",
    "\n",
    "for idx, c in enumerate(c_vals):\n",
    "    lrp.set_params(lr__C = c)\n",
    "    score = cross_val_score(lrp, x_train_worklife, y_train_worklife, cv=skf)\n",
    "    scr_mean_worklife[idx] = np.mean(score)\n",
    "    scr_std_worklife[idx] = np.std(score)\n",
    "    \n",
    "print('Training {} Logistic Regression models took {} seconds'.format(c_vals.shape[0], \n",
    "                                                                      str(time.time()-start_time)))"
   ]
  },
  {
   "cell_type": "code",
   "execution_count": 52,
   "metadata": {},
   "outputs": [
    {
     "name": "stdout",
     "output_type": "stream",
     "text": [
      "Best score = 0.902 +/- 0.013\n",
      "Best C param = 3.162\n"
     ]
    }
   ],
   "source": [
    "idx = np.argmax(scr_mean_worklife)\n",
    "\n",
    "#display best score with error and associated 'C' value\n",
    "\n",
    "print('Best score = {0:5.3f} +/- {1:5.3f}'.format(scr_mean_worklife[idx], scr_std_worklife[idx]))\n",
    "print('Best C param = {0:5.3f}'.format(c_vals[idx]))"
   ]
  },
  {
   "cell_type": "code",
   "execution_count": 55,
   "metadata": {},
   "outputs": [
    {
     "name": "stdout",
     "output_type": "stream",
     "text": [
      "Accuracy score: 89.579%\n",
      "             precision    recall  f1-score   support\n",
      "\n",
      "          0       0.91      0.97      0.94       434\n",
      "          1       0.68      0.38      0.49        65\n",
      "\n",
      "avg / total       0.88      0.90      0.88       499\n",
      "\n"
     ]
    }
   ],
   "source": [
    "#now perform standard performance testing by creating and applying model to test data\n",
    "\n",
    "#set parameter to best value\n",
    "lrp.set_params(lr__C = c_vals[idx])\n",
    "\n",
    "#Train model and predict on test data\n",
    "lrp.fit(x_train_worklife, y_train_worklife)\n",
    "y_pred_worklife = lrp.predict(x_test_worklife)\n",
    "\n",
    "print('Accuracy score: {0:5.3f}%'.format(accuracy_score(y_pred_worklife, y_test_worklife) * 100))\n",
    "\n",
    "#Generate classification report\n",
    "print(classification_report(y_test_worklife,y_pred_worklife))"
   ]
  },
  {
   "cell_type": "markdown",
   "metadata": {},
   "source": [
    "I'll now try to train with Random Forest Classifiers."
   ]
  },
  {
   "cell_type": "code",
   "execution_count": 63,
   "metadata": {},
   "outputs": [
    {
     "name": "stdout",
     "output_type": "stream",
     "text": [
      "Training 8 Random Forest Classifiers took 52.736732959747314 seconds\n",
      "Best score = 0.888 +/- 0.010\n",
      "Best number of estimators = 10.000\n",
      "Accuracy score: 89.579%\n",
      "             precision    recall  f1-score   support\n",
      "\n",
      "          0       0.91      0.97      0.94       434\n",
      "          1       0.68      0.38      0.49        65\n",
      "\n",
      "avg / total       0.88      0.90      0.88       499\n",
      "\n"
     ]
    }
   ],
   "source": [
    "start_time = time.time()\n",
    "\n",
    "n_estimators = [10, 20, 50, 100, 150, 200, 250, 300]\n",
    "\n",
    "#create arrays to hold CV stats\n",
    "scr_mean_worklife_rfc = [0 for idx in range(len(n_estimators))]\n",
    "scr_std_worklife_rfc = [0 for idx in range(len(n_estimators))]\n",
    "\n",
    "for idx, n_est in enumerate(n_estimators):\n",
    "    rfcp.set_params(rfc__n_estimators = n_est)\n",
    "    score = cross_val_score(rfcp, x_train_worklife, y_train_worklife, cv=skf)\n",
    "    scr_mean_worklife_rfc[idx] = np.mean(score)\n",
    "    scr_std_worklife_rfc[idx] = np.std(score)\n",
    "    \n",
    "print('Training {} Random Forest Classifiers took {} seconds'.format(len(n_estimators), \n",
    "                                                                     str(time.time()-start_time)))\n",
    "\n",
    "idx = np.argmax(scr_mean_worklife_rfc)\n",
    "\n",
    "#display best score with error and associated 'C' value\n",
    "print('Best score = {0:5.3f} +/- {1:5.3f}'.format(scr_mean_worklife_rfc[int(idx)], \n",
    "                                                  scr_std_worklife_rfc[int(idx)]))\n",
    "print('Best number of estimators = {0:5.3f}'.format(n_estimators[int(idx)]))\n",
    "\n",
    "#set parameter to best value\n",
    "rfcp.set_params(rfc__n_estimators = n_estimators[idx])\n",
    "\n",
    "#Train model and predict on test data\n",
    "rfcp.fit(x_train_worklife, y_train_worklife)\n",
    "y_pred_worklife_rfc = lrp.predict(x_test_worklife)\n",
    "\n",
    "print('Accuracy score: {0:5.3f}%'.format(accuracy_score(y_pred_worklife_rfc, \n",
    "                                                        y_test_worklife) * 100))\n",
    "\n",
    "#Generate classification report\n",
    "print(classification_report(y_test_worklife,y_pred_worklife_rfc))"
   ]
  },
  {
   "cell_type": "code",
   "execution_count": 59,
   "metadata": {},
   "outputs": [
    {
     "data": {
      "text/plain": [
       "array([ 10,  20,  50, 100, 150, 200, 250, 300])"
      ]
     },
     "execution_count": 59,
     "metadata": {},
     "output_type": "execute_result"
    }
   ],
   "source": [
    "np.asarray(n_estimators)"
   ]
  },
  {
   "cell_type": "markdown",
   "metadata": {},
   "source": [
    "## Classification of Senior Management\n",
    "\n",
    "Using Logistic Regression, I see some troubling performance when classifying Senior Management. The recall for predicting Senior Management is only 0.19. While I think precision is more important for us than recall, this is still very poor performance. I will not want to use these for my final models."
   ]
  },
  {
   "cell_type": "code",
   "execution_count": 64,
   "metadata": {},
   "outputs": [],
   "source": [
    "x_train_sm, x_test_sm, y_train_sm, y_test_sm = \\\n",
    "        train_test_split(pros_sentences_vectors_df, \n",
    "                         pros_sentences.loc[:,'Senior Management'],\n",
    "                         test_size=0.25,\n",
    "                         stratify=pros_sentences.loc[:,'Senior Management'],\n",
    "                         random_state=23)"
   ]
  },
  {
   "cell_type": "code",
   "execution_count": 68,
   "metadata": {},
   "outputs": [
    {
     "name": "stdout",
     "output_type": "stream",
     "text": [
      "15 LogisticRegression models took 9.241894721984863 seconds.\n",
      "Best score = 0.920 +/- 0.007\n",
      "Best C param = 1.000\n",
      "             precision    recall  f1-score   support\n",
      "\n",
      "          0       0.93      1.00      0.96       456\n",
      "          1       1.00      0.19      0.31        43\n",
      "\n",
      "avg / total       0.93      0.93      0.91       499\n",
      "\n"
     ]
    }
   ],
   "source": [
    "start_time = time.time()\n",
    "\n",
    "#create arrays to hold cross-validation stats\n",
    "scr_mean_sm = np.zeros(c_vals.shape)\n",
    "scr_std_sm = np.zeros(c_vals.shape)\n",
    "\n",
    "for idx, c in enumerate(c_vals):\n",
    "    lrp.set_params(lr__C = c)\n",
    "    score = cross_val_score(lrp, x_train_sm, y_train_sm, cv=skf)\n",
    "    scr_mean_sm[idx] = np.mean(score)\n",
    "    scr_std_sm[idx] = np.std(score)\n",
    "    \n",
    "print('{} LogisticRegression models took {} seconds'.format(c_vals.shape[0],\n",
    "                                                            str(time.time() - start_time))\n",
    "    \n",
    "#find best score\n",
    "idx = np.argmax(scr_mean_sm)\n",
    "\n",
    "#display best score with error and associated 'C\" value\n",
    "\n",
    "print(f'Best score = {scr_mean_sm[idx]:5.3f} +/- {scr_std_sm[idx]:5.3f}')\n",
    "print(f'Best C param = {c_vals[idx]:5.3f}')\n",
    "\n",
    "#now perform standard performance testing by creating and applying model to test data\n",
    "\n",
    "#set parameter to best value\n",
    "lrp.set_params(lr__C = c_vals[idx])\n",
    "\n",
    "#Train model and predict on test data\n",
    "lrp.fit(x_train_sm, y_train_sm)\n",
    "y_pred_sm = lrp.predict(x_test_sm)\n",
    "\n",
    "#Generate classification report\n",
    "print(classification_report(y_test_sm,y_pred_sm))"
   ]
  },
  {
   "cell_type": "code",
   "execution_count": 77,
   "metadata": {},
   "outputs": [
    {
     "name": "stdout",
     "output_type": "stream",
     "text": [
      "Took 332.70547890663147 seconds.\n",
      "Best C param = 1.0\n",
      "Best penalty = l2\n",
      "Best CV score = 0.9203480589022758\n",
      "             precision    recall  f1-score   support\n",
      "\n",
      "          0       0.93      1.00      0.96       456\n",
      "          1       1.00      0.19      0.31        43\n",
      "\n",
      "avg / total       0.93      0.93      0.91       499\n",
      "\n"
     ]
    }
   ],
   "source": [
    "start_time = time.time()\n",
    "\n",
    "#create arrays to hold cross-validation stats\n",
    "scr_mean_sm = np.zeros(c_vals.shape)\n",
    "scr_std_sm = np.zeros(c_vals.shape)\n",
    "\n",
    "params = dict(lr__C=c_vals, lr__penalty=['l1','l2'])\n",
    "\n",
    "gse = GridSearchCV(estimator=lrp, param_grid=params, cv=skf)\n",
    "\n",
    "gse.fit(x_train_sm, y_train_sm)\n",
    "\n",
    "print('Took {} seconds.'.format(time.time()-start_time))\n",
    "\n",
    "print('Best C param = {}'.format(gse.best_estimator_.get_params()['lr__C']))\n",
    "print('Best penalty = {}'.format(gse.best_estimator_.get_params()['lr__penalty']))\n",
    "\n",
    "print('Best CV score = {}'.format(gse.best_score_))\n",
    "\n",
    "lrp.set_params(lr__C = gse.best_estimator_.get_params()['lr__C'], lr__penalty = gse.best_estimator_.get_params()['lr__penalty'])\n",
    "\n",
    "lrp.fit(x_train_sm, y_train_sm)\n",
    "y_pred = lrp.predict(x_test_sm)\n",
    "\n",
    "print(classification_report(y_test_sm, y_pred))"
   ]
  },
  {
   "cell_type": "markdown",
   "metadata": {},
   "source": [
    "## Classification on Comp & Benefits\n",
    "\n",
    "Again, I see very poor recall of 0.19, this time when predicting 'Comp & Benefits'."
   ]
  },
  {
   "cell_type": "code",
   "execution_count": 67,
   "metadata": {},
   "outputs": [],
   "source": [
    "x_train_cb, x_test_cb, y_train_cb, y_test_cb = \\\n",
    "        train_test_split(pros_sentences_vectors_df, \n",
    "                         pros_sentences.loc[:,'Comp & Benefits'],\n",
    "                         test_size=0.25,\n",
    "                         stratify=pros_sentences.loc[:,'Comp & Benefits'],\n",
    "                         random_state=23)"
   ]
  },
  {
   "cell_type": "code",
   "execution_count": 69,
   "metadata": {},
   "outputs": [
    {
     "name": "stdout",
     "output_type": "stream",
     "text": [
      "15 LogisticRegression models took 7.787758111953735 seconds.\n",
      "Best score = 0.920 +/- 0.007\n",
      "Best C param = 1.000\n",
      "             precision    recall  f1-score   support\n",
      "\n",
      "          0       0.93      1.00      0.96       456\n",
      "          1       1.00      0.19      0.31        43\n",
      "\n",
      "avg / total       0.93      0.93      0.91       499\n",
      "\n"
     ]
    }
   ],
   "source": [
    "start_time = time.time()\n",
    "\n",
    "#create arrays to hold cross-validation stats\n",
    "scr_mean_cb = np.zeros(c_vals.shape)\n",
    "scr_std_cb = np.zeros(c_vals.shape)\n",
    "\n",
    "for idx, c in enumerate(c_vals):\n",
    "    lrp.set_params(lr__C = c)\n",
    "    score = cross_val_score(lrp, x_train_cb, y_train_cb, cv=skf)\n",
    "    scr_mean_cb[idx] = np.mean(score)\n",
    "    scr_std_cb[idx] = np.std(score)\n",
    "    \n",
    "print('{} LogisticRegression models took {} seconds'.format(c_vals.shape[0],\n",
    "                                                            str(time.time() - start_time)) \n",
    "#find best score\n",
    "idx = np.argmax(scr_mean_sm)\n",
    "\n",
    "#display best score with error and associated 'C\" value\n",
    "\n",
    "print(f'Best score = {scr_mean_sm[idx]:5.3f} +/- {scr_std_sm[idx]:5.3f}')\n",
    "print(f'Best C param = {c_vals[idx]:5.3f}')\n",
    "\n",
    "#now perform standard performance testing by creating and applying model to test data\n",
    "\n",
    "#set parameter to best value\n",
    "lrp.set_params(lr__C = c_vals[idx])\n",
    "\n",
    "#Train model and predict on test data\n",
    "lrp.fit(x_train_sm, y_train_sm)\n",
    "y_pred_sm = lrp.predict(x_test_sm)\n",
    "\n",
    "#Generate classification report\n",
    "print(classification_report(y_test_sm,y_pred_sm))"
   ]
  },
  {
   "cell_type": "code",
   "execution_count": 75,
   "metadata": {},
   "outputs": [
    {
     "name": "stdout",
     "output_type": "stream",
     "text": [
      "Best C param = 10.0\n",
      "Best penalty = l1\n",
      "Best CV score = 0.8078982597054887\n"
     ]
    }
   ],
   "source": [
    "start_time = time.time()\n",
    "\n",
    "#create arrays to hold cross-validation stats\n",
    "scr_mean_cb = np.zeros(c_vals.shape)\n",
    "scr_std_cb = np.zeros(c_vals.shape)\n",
    "\n",
    "params = dict(lr__C=c_vals, lr__penalty=['l1','l2'])\n",
    "\n",
    "gse = GridSearchCV(estimator=lrp, param_grid=params, cv=skf)\n",
    "\n",
    "gse.fit(x_train_cb, y_train_cb)\n",
    "\n",
    "#display best score with error and associated 'C\" value\n",
    "\n",
    "print('Best C param = {}'.format(gse.best_estimator_.get_params()['lr__C']))\n",
    "print('Best penalty = {}'.format(gse.best_estimator_.get_params()['lr__penalty']))\n",
    "\n",
    "print('Best CV score = {}'.format(gse.best_score_))"
   ]
  },
  {
   "cell_type": "code",
   "execution_count": 76,
   "metadata": {},
   "outputs": [
    {
     "name": "stdout",
     "output_type": "stream",
     "text": [
      "             precision    recall  f1-score   support\n",
      "\n",
      "          0       0.82      0.93      0.87       338\n",
      "          1       0.80      0.58      0.67       161\n",
      "\n",
      "avg / total       0.82      0.82      0.81       499\n",
      "\n"
     ]
    }
   ],
   "source": [
    "lrp.set_params(lr__C = 10, lr__penalty = 'l1')\n",
    "\n",
    "lrp.fit(x_train_cb, y_train_cb)\n",
    "y_pred = lrp.predict(x_test_cb)\n",
    "\n",
    "print(classification_report(y_test_cb, y_pred))"
   ]
  },
  {
   "cell_type": "markdown",
   "metadata": {},
   "source": [
    "## Classification on Career Opportunities"
   ]
  },
  {
   "cell_type": "code",
   "execution_count": 71,
   "metadata": {},
   "outputs": [],
   "source": [
    "x_train_co, x_test_co, y_train_co, y_test_co = \\\n",
    "        train_test_split(pros_sentences_vectors_df, \n",
    "                         pros_sentences.loc[:,'Career Opportunities'],\n",
    "                         test_size=0.25,\n",
    "                         stratify=pros_sentences.loc[:,'Career Opportunities'],\n",
    "                         random_state=23)"
   ]
  },
  {
   "cell_type": "code",
   "execution_count": 73,
   "metadata": {},
   "outputs": [
    {
     "name": "stdout",
     "output_type": "stream",
     "text": [
      "15 LogisticRegression models took 6.037069797515869 seconds.\n",
      "Best score = 0.803 +/- 0.012\n",
      "Best C param = 316.228\n",
      "             precision    recall  f1-score   support\n",
      "\n",
      "          0       0.87      0.95      0.91       405\n",
      "          1       0.64      0.37      0.47        94\n",
      "\n",
      "avg / total       0.82      0.84      0.82       499\n",
      "\n"
     ]
    }
   ],
   "source": [
    "start_time = time.time()\n",
    "\n",
    "#create arrays to hold cross-validation stats\n",
    "scr_mean_co = np.zeros(c_vals.shape)\n",
    "scr_std_co = np.zeros(c_vals.shape)\n",
    "\n",
    "for idx, c in enumerate(c_vals):\n",
    "    lrp.set_params(lr__C = c)\n",
    "    score = cross_val_score(lrp, x_train_cb, y_train_cb, cv=skf)\n",
    "    scr_mean_co[idx] = np.mean(score)\n",
    "    scr_std_co[idx] = np.std(score)\n",
    "    \n",
    "print('{} LogisticRegression models took {} seconds'.format(c_vals.shape[0],\n",
    "                                                            str(time.time() - start_time))\n",
    "    \n",
    "#find best score\n",
    "idx = np.argmax(scr_mean_co)\n",
    "\n",
    "#display best score with error and associated 'C\" value\n",
    "\n",
    "print(f'Best score = {scr_mean_co[idx]:5.3f} +/- {scr_std_co[idx]:5.3f}')\n",
    "print(f'Best C param = {c_vals[idx]:5.3f}')\n",
    "\n",
    "#now perform standard performance testing by creating and applying model to test data\n",
    "\n",
    "#set parameter to best value\n",
    "lrp.set_params(lr__C = c_vals[idx])\n",
    "\n",
    "#Train model and predict on test data\n",
    "lrp.fit(x_train_co, y_train_co)\n",
    "y_pred_co = lrp.predict(x_test_co)\n",
    "\n",
    "#Generate classification report\n",
    "print(classification_report(y_test_co,y_pred_co))"
   ]
  },
  {
   "cell_type": "markdown",
   "metadata": {},
   "source": [
    "# Predicting Cons\n",
    "\n",
    "We will now do everything for CONs. This includes training a Word2Vec model and then training classifiers."
   ]
  },
  {
   "cell_type": "markdown",
   "metadata": {},
   "source": [
    "## Tokenize labeled cons sentences"
   ]
  },
  {
   "cell_type": "code",
   "execution_count": 19,
   "metadata": {},
   "outputs": [],
   "source": [
    "#create new column of tokens in each sentence\n",
    "cons_sentences.loc[:,'tokens'] = cons_sentences.loc[:,'CONs_sentence'].\\\n",
    "    apply(lambda sentence: tokenize_a_sentence(sentence, tokenizer))"
   ]
  },
  {
   "cell_type": "code",
   "execution_count": 21,
   "metadata": {},
   "outputs": [],
   "source": [
    "#number of dimensions for Word2Vec model\n",
    "dim = 100\n",
    "\n",
    "#train Word2Vec model on tokens\n",
    "model_cons = gensim.models.Word2Vec(list(cons_sentences.loc[:,'tokens']), size=dim)\n",
    "w2v_cons = dict(zip(model_cons.wv.index2word, model_cons.wv.vectors))"
   ]
  },
  {
   "cell_type": "code",
   "execution_count": 22,
   "metadata": {},
   "outputs": [],
   "source": [
    "#check that it contains some commonly used words\n",
    "assert(model_cons.wv.__contains__('opportunity'))\n",
    "assert(model_cons.wv.__contains__('work'))\n",
    "assert(model_cons.wv.__contains__('benefits'))"
   ]
  },
  {
   "cell_type": "code",
   "execution_count": 23,
   "metadata": {},
   "outputs": [
    {
     "name": "stderr",
     "output_type": "stream",
     "text": [
      "/Users/derekjung/anaconda/lib/python3.6/site-packages/ipykernel/__main__.py:11: DeprecationWarning: Call to deprecated `__contains__` (Method will be removed in 4.0.0, use self.wv.__contains__() instead).\n",
      "/Users/derekjung/anaconda/lib/python3.6/site-packages/ipykernel/__main__.py:11: DeprecationWarning: Call to deprecated `__getitem__` (Method will be removed in 4.0.0, use self.wv.__getitem__() instead).\n"
     ]
    }
   ],
   "source": [
    "#store Word2Vec representation of each CON sentence\n",
    "cons_sentences_vectors_array = np.zeros((cons_sentences.shape[0], dim))\n",
    "\n",
    "for idx in range(cons_sentences.shape[0]):\n",
    "    cons_sentences_vectors_array[idx] = average_of_tokens(cons_sentences.loc[idx,'tokens'])    "
   ]
  },
  {
   "cell_type": "code",
   "execution_count": 24,
   "metadata": {},
   "outputs": [],
   "source": [
    "cons_sentences_vectors_df = pd.DataFrame(cons_sentences_vectors_array)"
   ]
  },
  {
   "cell_type": "markdown",
   "metadata": {},
   "source": [
    "## Classification of Culture & Values with Logistic Regression"
   ]
  },
  {
   "cell_type": "code",
   "execution_count": 25,
   "metadata": {},
   "outputs": [],
   "source": [
    "#reserve 75% of data for training\n",
    "#stratify to make sure that equal representation of Culture & Values and not in training/testing\n",
    "x_train_culture, x_test_culture, y_train_culture, y_test_culture = \\\n",
    "    train_test_split(cons_sentences_vectors_df, \n",
    "                     cons_sentences.loc[:,'Culture & Values'],\n",
    "                    test_size=0.25,\n",
    "                     stratify=cons_sentences.loc[:,'Culture & Values'],\n",
    "                    random_state=23)"
   ]
  },
  {
   "cell_type": "code",
   "execution_count": 29,
   "metadata": {},
   "outputs": [],
   "source": [
    "c_vals = np.logspace(-3,4,15)\n",
    "\n",
    "#Logistic Regression pipeline\n",
    "lrp = Pipeline([('ss', StandardScaler()),\n",
    "               ('lr', LogisticRegression(random_state=23))])\n",
    "\n",
    "#do k-fold cross-validation to maintain class balance\n",
    "skf = StratifiedKFold(n_splits=5, random_state=23)"
   ]
  },
  {
   "cell_type": "code",
   "execution_count": 30,
   "metadata": {},
   "outputs": [
    {
     "name": "stdout",
     "output_type": "stream",
     "text": [
      "Took 151.5967719554901 seconds.\n",
      "Best C param = 3.1622776601683795\n",
      "Best penalty = l2\n",
      "Best CV score = 0.68\n",
      "             precision    recall  f1-score   support\n",
      "\n",
      "          0       0.70      0.86      0.77       328\n",
      "          1       0.53      0.31      0.39       172\n",
      "\n",
      "avg / total       0.64      0.67      0.64       500\n",
      "\n"
     ]
    }
   ],
   "source": [
    "start_time = time.time()\n",
    "\n",
    "params = dict(lr__C=c_vals, lr__penalty=['l1','l2'])\n",
    "\n",
    "gse = GridSearchCV(estimator=lrp, param_grid=params, cv=skf)\n",
    "\n",
    "gse.fit(x_train_culture, y_train_culture)\n",
    "\n",
    "print('Took {} seconds.'.format(time.time()-start_time))\n",
    "\n",
    "print('Best C param = {}'.format(gse.best_estimator_.get_params()['lr__C']))\n",
    "print('Best penalty = {}'.format(gse.best_estimator_.get_params()['lr__penalty']))\n",
    "\n",
    "print('Best CV score = {}'.format(gse.best_score_))\n",
    "\n",
    "lrp.set_params(lr__C = gse.best_estimator_.get_params()['lr__C'], lr__penalty = gse.best_estimator_.get_params()['lr__penalty'])\n",
    "\n",
    "lrp.fit(x_train_culture, y_train_culture)\n",
    "y_pred = lrp.predict(x_test_culture)\n",
    "\n",
    "print(classification_report(y_test_culture, y_pred))"
   ]
  },
  {
   "cell_type": "code",
   "execution_count": 31,
   "metadata": {},
   "outputs": [],
   "source": [
    "categories = ['Culture & Values', 'Work/Life Balance', 'Senior Management', \n",
    "              'Comp & Benefits', 'Career Opportunities']"
   ]
  },
  {
   "cell_type": "code",
   "execution_count": 33,
   "metadata": {},
   "outputs": [
    {
     "name": "stdout",
     "output_type": "stream",
     "text": [
      "--------------------------------------------------\n",
      "Culture & Values\n",
      "Best C param = 3.1622776601683795\n",
      "Best penalty = l2\n",
      "Best CV score = 0.68\n",
      "             precision    recall  f1-score   support\n",
      "\n",
      "          0       0.70      0.86      0.77       328\n",
      "          1       0.53      0.31      0.39       172\n",
      "\n",
      "avg / total       0.64      0.67      0.64       500\n",
      "\n",
      "Took 134.52920722961426 seconds.\n",
      "--------------------------------------------------\n",
      "Work/Life Balance\n",
      "Best C param = 1.0\n",
      "Best penalty = l2\n",
      "Best CV score = 0.8946666666666667\n",
      "             precision    recall  f1-score   support\n",
      "\n",
      "          0       0.90      0.98      0.94       441\n",
      "          1       0.57      0.22      0.32        59\n",
      "\n",
      "avg / total       0.86      0.89      0.87       500\n",
      "\n",
      "Took 130.51529574394226 seconds.\n",
      "--------------------------------------------------\n",
      "Senior Management\n",
      "Best C param = 10.0\n",
      "Best penalty = l1\n",
      "Best CV score = 0.8886666666666667\n",
      "             precision    recall  f1-score   support\n",
      "\n",
      "          0       0.90      0.96      0.93       424\n",
      "          1       0.63      0.42      0.50        76\n",
      "\n",
      "avg / total       0.86      0.87      0.86       500\n",
      "\n",
      "Took 219.09891724586487 seconds.\n",
      "--------------------------------------------------\n",
      "Comp & Benefits\n",
      "Best C param = 3.1622776601683795\n",
      "Best penalty = l2\n",
      "Best CV score = 0.8846666666666667\n",
      "             precision    recall  f1-score   support\n",
      "\n",
      "          0       0.89      1.00      0.94       426\n",
      "          1       0.91      0.27      0.42        74\n",
      "\n",
      "avg / total       0.89      0.89      0.86       500\n",
      "\n",
      "Took 200.7047369480133 seconds.\n",
      "--------------------------------------------------\n",
      "Career Opportunities\n",
      "Best C param = 1.0\n",
      "Best penalty = l2\n",
      "Best CV score = 0.8393333333333334\n",
      "             precision    recall  f1-score   support\n",
      "\n",
      "          0       0.85      0.99      0.92       417\n",
      "          1       0.72      0.16      0.26        83\n",
      "\n",
      "avg / total       0.83      0.85      0.81       500\n",
      "\n",
      "Took 230.27377200126648 seconds.\n"
     ]
    }
   ],
   "source": [
    "#train Logistic Regression with Stratified K-fold and GridSearch on every category\n",
    "for cat in categories:\n",
    "    \n",
    "    start_time = time.time()\n",
    "\n",
    "    print('-'*50)\n",
    "    print(cat)\n",
    "    x_train, x_test, y_train, y_test = \\\n",
    "    train_test_split(cons_sentences_vectors_df,\n",
    "                     cons_sentences.loc[:,cat],\n",
    "                     test_size=0.25,\n",
    "                     stratify=cons_sentences.loc[:,cat],\n",
    "                     random_state=23)\n",
    "    \n",
    "\n",
    "    params = dict(lr__C=c_vals, lr__penalty=['l1','l2'])\n",
    "\n",
    "    gse = GridSearchCV(estimator=lrp, param_grid=params, cv=skf)\n",
    "\n",
    "    gse.fit(x_train, y_train)\n",
    "\n",
    "\n",
    "    print('Best C param = {}'.format(gse.best_estimator_.get_params()['lr__C']))\n",
    "    print('Best penalty = {}'.format(gse.best_estimator_.get_params()['lr__penalty']))\n",
    "\n",
    "    print('Best CV score = {}'.format(gse.best_score_))\n",
    "\n",
    "    lrp.set_params(lr__C = gse.best_estimator_.get_params()['lr__C'], lr__penalty = gse.best_estimator_.get_params()['lr__penalty'])\n",
    "\n",
    "    lrp.fit(x_train, y_train)\n",
    "    y_pred = lrp.predict(x_test)\n",
    "\n",
    "    print(classification_report(y_test, y_pred))\n",
    "\n",
    "    print('Took {} seconds.'.format(time.time()-start_time))\n",
    "    \n",
    "    start_time = time.time()"
   ]
  }
 ],
 "metadata": {
  "kernelspec": {
   "display_name": "Python 3",
   "language": "python",
   "name": "python3"
  },
  "language_info": {
   "codemirror_mode": {
    "name": "ipython",
    "version": 3
   },
   "file_extension": ".py",
   "mimetype": "text/x-python",
   "name": "python",
   "nbconvert_exporter": "python",
   "pygments_lexer": "ipython3",
   "version": "3.6.5"
  }
 },
 "nbformat": 4,
 "nbformat_minor": 2
}
